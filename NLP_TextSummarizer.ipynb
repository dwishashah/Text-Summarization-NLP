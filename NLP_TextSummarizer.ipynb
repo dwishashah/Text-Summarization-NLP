{
  "nbformat": 4,
  "nbformat_minor": 0,
  "metadata": {
    "colab": {
      "provenance": [],
      "include_colab_link": true
    },
    "kernelspec": {
      "name": "python3",
      "display_name": "Python 3"
    },
    "language_info": {
      "name": "python"
    }
  },
  "cells": [
    {
      "cell_type": "markdown",
      "metadata": {
        "id": "view-in-github",
        "colab_type": "text"
      },
      "source": [
        "<a href=\"https://colab.research.google.com/github/dwishashah/Text-Summarization-NLP/blob/main/NLP_TextSummarizer.ipynb\" target=\"_parent\"><img src=\"https://colab.research.google.com/assets/colab-badge.svg\" alt=\"Open In Colab\"/></a>"
      ]
    },
    {
      "cell_type": "markdown",
      "source": [
        "## Importing Libraries"
      ],
      "metadata": {
        "id": "3SMvmSOCwTru"
      }
    },
    {
      "cell_type": "code",
      "execution_count": null,
      "metadata": {
        "id": "V_5Z-vKXsBpB"
      },
      "outputs": [],
      "source": [
        "import nltk\n",
        "import string\n",
        "import re\n",
        "from nltk.tokenize import word_tokenize, sent_tokenize\n",
        "from nltk.corpus import stopwords, wordnet\n",
        "from nltk.stem import PorterStemmer, WordNetLemmatizer\n",
        "from nltk.util import ngrams\n",
        "from sklearn.feature_extraction.text import TfidfVectorizer\n",
        "from sklearn.metrics.pairwise import cosine_similarity\n",
        "from nltk.tag import pos_tag"
      ]
    },
    {
      "cell_type": "code",
      "source": [
        "nltk.download('punkt')\n",
        "nltk.download('stopwords')\n",
        "nltk.download('wordnet')\n",
        "nltk.download('averaged_perceptron_tagger')"
      ],
      "metadata": {
        "colab": {
          "base_uri": "https://localhost:8080/"
        },
        "id": "I-WAUGvG5Zwj",
        "outputId": "a0edb195-0a59-4c9c-d138-ea2da53af47a"
      },
      "execution_count": null,
      "outputs": [
        {
          "output_type": "stream",
          "name": "stderr",
          "text": [
            "[nltk_data] Downloading package punkt to /root/nltk_data...\n",
            "[nltk_data]   Unzipping tokenizers/punkt.zip.\n",
            "[nltk_data] Downloading package stopwords to /root/nltk_data...\n",
            "[nltk_data]   Unzipping corpora/stopwords.zip.\n",
            "[nltk_data] Downloading package wordnet to /root/nltk_data...\n",
            "[nltk_data] Downloading package averaged_perceptron_tagger to\n",
            "[nltk_data]     /root/nltk_data...\n",
            "[nltk_data]   Unzipping taggers/averaged_perceptron_tagger.zip.\n"
          ]
        },
        {
          "output_type": "execute_result",
          "data": {
            "text/plain": [
              "True"
            ]
          },
          "metadata": {},
          "execution_count": 3
        }
      ]
    },
    {
      "cell_type": "markdown",
      "source": [
        "## 1: Preprocessing\n"
      ],
      "metadata": {
        "id": "j8DDD4T04mKB"
      }
    },
    {
      "cell_type": "code",
      "source": [
        "# Sample document\n",
        "document = \"\"\"\n",
        "Text summarization is the process of distilling the most important information from a source to produce a concise summary.\n",
        "There are two main approaches to text summarization: extractive and abstractive summarization.\n",
        "Extractive summarization involves selecting and combining existing sentences or phrases from the source document.\n",
        "Abstractive summarization, on the other hand, generates new sentences to convey the key points of the source text.\n",
        "TextRank is a popular algorithm for extractive text summarization, which ranks sentences based on their importance in the document.\n",
        "\"\"\""
      ],
      "metadata": {
        "id": "V1a5XtRJ4dXL"
      },
      "execution_count": null,
      "outputs": []
    },
    {
      "cell_type": "code",
      "source": [
        "def preprocess(text):\n",
        "    # Convert text to lowercase\n",
        "    text = text.lower()\n",
        "    # Remove punctuation\n",
        "    text = re.sub(r'[^\\w\\s]', '', text)\n",
        "    # Tokenize text into words\n",
        "    words = word_tokenize(text)\n",
        "    # Remove stopwords\n",
        "    stop_words = set(stopwords.words('english'))\n",
        "    words = [word for word in words if word not in stop_words]\n",
        "    # Lemmatize words\n",
        "    lemmatizer = WordNetLemmatizer()\n",
        "    words = [lemmatizer.lemmatize(word) for word in words]\n",
        "    return ' '.join(words)\n",
        "\n",
        "preprocessed_text = preprocess(document)\n",
        "print(\"1. Preprocessed Text:\")\n",
        "print(preprocessed_text)"
      ],
      "metadata": {
        "colab": {
          "base_uri": "https://localhost:8080/"
        },
        "id": "-ITAiZWi4ij8",
        "outputId": "74b8c993-6c6e-481d-e657-194f123f4abb"
      },
      "execution_count": null,
      "outputs": [
        {
          "output_type": "stream",
          "name": "stdout",
          "text": [
            "1. Preprocessed Text:\n",
            "text summarization process distilling important information source produce concise summary two main approach text summarization extractive abstractive summarization extractive summarization involves selecting combining existing sentence phrase source document abstractive summarization hand generates new sentence convey key point source text textrank popular algorithm extractive text summarization rank sentence based importance document\n"
          ]
        }
      ]
    },
    {
      "cell_type": "markdown",
      "source": [
        "## 2: N-gram Modeling"
      ],
      "metadata": {
        "id": "3c0KX82d4sMi"
      }
    },
    {
      "cell_type": "code",
      "source": [
        "def generate_ngrams(text, n=2):\n",
        "    words = word_tokenize(text)\n",
        "    n_grams = list(ngrams(words, n))\n",
        "    return [' '.join(gram) for gram in n_grams]\n",
        "\n",
        "ngrams_text = generate_ngrams(preprocessed_text)\n",
        "print(\"\\n2. N-grams:\")\n",
        "for gram in ngrams_text:\n",
        "    print(gram)"
      ],
      "metadata": {
        "colab": {
          "base_uri": "https://localhost:8080/"
        },
        "id": "rRk2HNiE4onT",
        "outputId": "f0c78b62-3b85-47cf-d062-42ef4d8f50f2"
      },
      "execution_count": null,
      "outputs": [
        {
          "output_type": "stream",
          "name": "stdout",
          "text": [
            "\n",
            "2. N-grams:\n",
            "text summarization\n",
            "summarization process\n",
            "process distilling\n",
            "distilling important\n",
            "important information\n",
            "information source\n",
            "source produce\n",
            "produce concise\n",
            "concise summary\n",
            "summary two\n",
            "two main\n",
            "main approach\n",
            "approach text\n",
            "text summarization\n",
            "summarization extractive\n",
            "extractive abstractive\n",
            "abstractive summarization\n",
            "summarization extractive\n",
            "extractive summarization\n",
            "summarization involves\n",
            "involves selecting\n",
            "selecting combining\n",
            "combining existing\n",
            "existing sentence\n",
            "sentence phrase\n",
            "phrase source\n",
            "source document\n",
            "document abstractive\n",
            "abstractive summarization\n",
            "summarization hand\n",
            "hand generates\n",
            "generates new\n",
            "new sentence\n",
            "sentence convey\n",
            "convey key\n",
            "key point\n",
            "point source\n",
            "source text\n",
            "text textrank\n",
            "textrank popular\n",
            "popular algorithm\n",
            "algorithm extractive\n",
            "extractive text\n",
            "text summarization\n",
            "summarization rank\n",
            "rank sentence\n",
            "sentence based\n",
            "based importance\n",
            "importance document\n"
          ]
        }
      ]
    },
    {
      "cell_type": "markdown",
      "source": [
        "## 3: Porter Stemmer"
      ],
      "metadata": {
        "id": "f60-ISXV4zPU"
      }
    },
    {
      "cell_type": "code",
      "source": [
        "def porter_stem(text):\n",
        "    porter = PorterStemmer()\n",
        "    return ' '.join(porter.stem(word) for word in word_tokenize(text))\n",
        "\n",
        "stemmed_text = porter_stem(preprocessed_text)\n",
        "print(\"\\n3. Stemmed Text:\")\n",
        "print(stemmed_text)"
      ],
      "metadata": {
        "colab": {
          "base_uri": "https://localhost:8080/"
        },
        "id": "ggxPVjVn4td6",
        "outputId": "803dd55a-bb2d-48b9-9c47-b27461c7f8b7"
      },
      "execution_count": null,
      "outputs": [
        {
          "output_type": "stream",
          "name": "stdout",
          "text": [
            "\n",
            "3. Stemmed Text:\n",
            "text summar process distil import inform sourc produc concis summari two main approach text summar extract abstract summar extract summar involv select combin exist sentenc phrase sourc document abstract summar hand gener new sentenc convey key point sourc text textrank popular algorithm extract text summar rank sentenc base import document\n"
          ]
        }
      ]
    },
    {
      "cell_type": "markdown",
      "source": [
        "## 4: POS Tagging\n"
      ],
      "metadata": {
        "id": "YNqnbni-44gh"
      }
    },
    {
      "cell_type": "code",
      "source": [
        "def pos_tagging(text):\n",
        "    tagged_words = pos_tag(word_tokenize(text))\n",
        "    return tagged_words\n",
        "\n",
        "pos_tagged_text = pos_tagging(preprocessed_text)\n",
        "print(\"\\n4. POS Tagging:\")\n",
        "print(pos_tagged_text)"
      ],
      "metadata": {
        "colab": {
          "base_uri": "https://localhost:8080/"
        },
        "id": "nlOJseSP40hs",
        "outputId": "ca995dcc-e58d-4e29-d949-407e0ff0fc18"
      },
      "execution_count": null,
      "outputs": [
        {
          "output_type": "stream",
          "name": "stdout",
          "text": [
            "\n",
            "4. POS Tagging:\n",
            "[('text', 'JJ'), ('summarization', 'NN'), ('process', 'NN'), ('distilling', 'VBG'), ('important', 'JJ'), ('information', 'NN'), ('source', 'NN'), ('produce', 'VBP'), ('concise', 'NN'), ('summary', 'JJ'), ('two', 'CD'), ('main', 'JJ'), ('approach', 'NN'), ('text', 'NN'), ('summarization', 'NN'), ('extractive', 'JJ'), ('abstractive', 'JJ'), ('summarization', 'NN'), ('extractive', 'JJ'), ('summarization', 'NN'), ('involves', 'VBZ'), ('selecting', 'VBG'), ('combining', 'VBG'), ('existing', 'VBG'), ('sentence', 'NN'), ('phrase', 'NN'), ('source', 'NN'), ('document', 'NN'), ('abstractive', 'JJ'), ('summarization', 'NN'), ('hand', 'NN'), ('generates', 'VBZ'), ('new', 'JJ'), ('sentence', 'NN'), ('convey', 'NN'), ('key', 'JJ'), ('point', 'NN'), ('source', 'NN'), ('text', 'NN'), ('textrank', 'NN'), ('popular', 'JJ'), ('algorithm', 'NN'), ('extractive', 'JJ'), ('text', 'NN'), ('summarization', 'NN'), ('rank', 'NN'), ('sentence', 'NN'), ('based', 'VBN'), ('importance', 'NN'), ('document', 'NN')]\n"
          ]
        }
      ]
    },
    {
      "cell_type": "markdown",
      "source": [
        "## 5: TF-IDF Vectorization\n"
      ],
      "metadata": {
        "id": "Z9DkhibG4-tJ"
      }
    },
    {
      "cell_type": "code",
      "source": [
        "def tfidf_vectorization(documents):\n",
        "    tfidf_vectorizer = TfidfVectorizer()\n",
        "    tfidf_matrix = tfidf_vectorizer.fit_transform(documents)\n",
        "    return tfidf_vectorizer, tfidf_matrix\n",
        "\n",
        "tfidf_vectorizer, tfidf_matrix = tfidf_vectorization([preprocessed_text])\n",
        "print(\"\\n5. TF-IDF Vectorization (Vectorized Document):\")\n",
        "print(tfidf_matrix.toarray())"
      ],
      "metadata": {
        "colab": {
          "base_uri": "https://localhost:8080/"
        },
        "id": "_1jiUxzF47Tv",
        "outputId": "d31823dc-3afe-4ee3-ecc0-211845af4b20"
      },
      "execution_count": null,
      "outputs": [
        {
          "output_type": "stream",
          "name": "stdout",
          "text": [
            "\n",
            "5. TF-IDF Vectorization (Vectorized Document):\n",
            "[[0.18731716 0.09365858 0.09365858 0.09365858 0.09365858 0.09365858\n",
            "  0.09365858 0.09365858 0.18731716 0.09365858 0.28097574 0.09365858\n",
            "  0.09365858 0.09365858 0.09365858 0.09365858 0.09365858 0.09365858\n",
            "  0.09365858 0.09365858 0.09365858 0.09365858 0.09365858 0.09365858\n",
            "  0.09365858 0.09365858 0.09365858 0.28097574 0.28097574 0.56195149\n",
            "  0.09365858 0.37463432 0.09365858 0.09365858]]\n"
          ]
        }
      ]
    },
    {
      "cell_type": "markdown",
      "source": [
        "## 6: WordNet"
      ],
      "metadata": {
        "id": "v-BoGLBq5HQk"
      }
    },
    {
      "cell_type": "code",
      "source": [
        "def wordnet_disambiguation(word, pos):\n",
        "    synsets = wordnet.synsets(word, pos=pos)\n",
        "    if synsets:\n",
        "        return synsets[0].definition()\n",
        "    else:\n",
        "        return \"No suitable synset found.\"\n",
        "\n",
        "word = input(\"Enter a word for WordNet disambiguation: \")\n",
        "pos = input(\"Enter the part of speech tag for the word (e.g., 'n' for noun, 'v' for verb): \")\n",
        "print(\"WordNet Disambiguation:\")\n",
        "print(wordnet_disambiguation(word, pos))"
      ],
      "metadata": {
        "colab": {
          "base_uri": "https://localhost:8080/"
        },
        "id": "RHkNOt5D5Dmu",
        "outputId": "f657805c-1416-4693-e0d2-db7b7c020b53"
      },
      "execution_count": null,
      "outputs": [
        {
          "output_type": "stream",
          "name": "stdout",
          "text": [
            "Enter a word for WordNet disambiguation: rank\n",
            "Enter the part of speech tag for the word (e.g., 'n' for noun, 'v' for verb): v\n",
            "WordNet Disambiguation:\n",
            "take or have a position relative to others\n"
          ]
        }
      ]
    },
    {
      "cell_type": "markdown",
      "source": [
        "## 7: Word Sense Disambiguation"
      ],
      "metadata": {
        "id": "kruMI-ui5MiF"
      }
    },
    {
      "cell_type": "code",
      "source": [
        "def word_sense_disambiguation(sentence):\n",
        "    disambiguated_sentence = []\n",
        "    for word, tag in pos_tag(word_tokenize(sentence)):\n",
        "        if tag.startswith('N'):\n",
        "            disambiguated_sentence.append(wordnet_disambiguation(word, sentence))\n",
        "        else:\n",
        "            disambiguated_sentence.append(word)\n",
        "    return ' '.join(disambiguated_sentence)"
      ],
      "metadata": {
        "id": "gj_3kiVM5I8T"
      },
      "execution_count": null,
      "outputs": []
    },
    {
      "cell_type": "markdown",
      "source": [
        "## 8: Text Summarization"
      ],
      "metadata": {
        "id": "ckwV6RfF5SwQ"
      }
    },
    {
      "cell_type": "code",
      "source": [
        "def text_summarization(document):\n",
        "  try:\n",
        "      preprocessed_text = preprocess(document)\n",
        "      ngrams_text = generate_ngrams(preprocessed_text)\n",
        "      stemmed_text = porter_stem(preprocessed_text)\n",
        "      pos_tagged_text = pos_tagging(preprocessed_text)\n",
        "      tfidf_vectorizer, tfidf_matrix = tfidf_vectorization([preprocessed_text])\n",
        "      # Calculate sentence importance scores using TF-IDF\n",
        "      sentence_scores = {}\n",
        "      for i, sentence in enumerate(sent_tokenize(document)):\n",
        "          sentence_vector = tfidf_vectorizer.transform([preprocess(sentence)])\n",
        "          similarity_score = cosine_similarity(sentence_vector, tfidf_matrix)\n",
        "          sentence_scores[i] = similarity_score.mean()\n",
        "      # Sort sentences by importance score\n",
        "      ranked_sentences = sorted(((score, i) for i, score in sentence_scores.items()), reverse=True)\n",
        "      # Select top 2 sentences as summary\n",
        "      summary = [sent_tokenize(document)[i] for _, i in ranked_sentences[:2]]\n",
        "      return ' '.join(summary)\n",
        "  except (TypeError, ValueError):\n",
        "      return None"
      ],
      "metadata": {
        "id": "-xhVxeG85OPB"
      },
      "execution_count": null,
      "outputs": []
    },
    {
      "cell_type": "code",
      "source": [
        "# Test the Text Summarization function\n",
        "print(\"Original Document:\")\n",
        "print(document)\n",
        "print(\"\\nSummary:\")\n",
        "print(text_summarization(document))"
      ],
      "metadata": {
        "colab": {
          "base_uri": "https://localhost:8080/"
        },
        "id": "xoe17cJt5Y6A",
        "outputId": "4e0295eb-305f-4501-d84e-514e443fad57"
      },
      "execution_count": null,
      "outputs": [
        {
          "output_type": "stream",
          "name": "stdout",
          "text": [
            "Original Document:\n",
            "\n",
            "Text summarization is the process of distilling the most important information from a source to produce a concise summary.\n",
            "There are two main approaches to text summarization: extractive and abstractive summarization.\n",
            "Extractive summarization involves selecting and combining existing sentences or phrases from the source document.\n",
            "Abstractive summarization, on the other hand, generates new sentences to convey the key points of the source text.\n",
            "TextRank is a popular algorithm for extractive text summarization, which ranks sentences based on their importance in the document.\n",
            "\n",
            "\n",
            "Summary:\n",
            "There are two main approaches to text summarization: extractive and abstractive summarization. TextRank is a popular algorithm for extractive text summarization, which ranks sentences based on their importance in the document.\n"
          ]
        }
      ]
    },
    {
      "cell_type": "markdown",
      "source": [
        "#Summarization on News Dataset"
      ],
      "metadata": {
        "id": "j-8SXeQEI7Sv"
      }
    },
    {
      "cell_type": "code",
      "source": [
        "import pandas as pd\n",
        "df = pd.read_csv('news.csv')"
      ],
      "metadata": {
        "id": "F8TNTJkbIhwp"
      },
      "execution_count": null,
      "outputs": []
    },
    {
      "cell_type": "markdown",
      "source": [
        "##Pre-processing the data"
      ],
      "metadata": {
        "id": "DYzhkc4RI_v3"
      }
    },
    {
      "cell_type": "code",
      "source": [
        "df.head()"
      ],
      "metadata": {
        "colab": {
          "base_uri": "https://localhost:8080/",
          "height": 206
        },
        "id": "3WUEbnmYJRQa",
        "outputId": "22ff6598-f6a4-4763-e424-15af082af46d"
      },
      "execution_count": null,
      "outputs": [
        {
          "output_type": "execute_result",
          "data": {
            "text/plain": [
              "   Unnamed: 0                                              title  \\\n",
              "0        8476                       You Can Smell Hillary’s Fear   \n",
              "1       10294  Watch The Exact Moment Paul Ryan Committed Pol...   \n",
              "2        3608        Kerry to go to Paris in gesture of sympathy   \n",
              "3       10142  Bernie supporters on Twitter erupt in anger ag...   \n",
              "4         875   The Battle of New York: Why This Primary Matters   \n",
              "\n",
              "                                                text label  \n",
              "0  Daniel Greenfield, a Shillman Journalism Fello...  FAKE  \n",
              "1  Google Pinterest Digg Linkedin Reddit Stumbleu...  FAKE  \n",
              "2  U.S. Secretary of State John F. Kerry said Mon...  REAL  \n",
              "3  — Kaydee King (@KaydeeKing) November 9, 2016 T...  FAKE  \n",
              "4  It's primary day in New York and front-runners...  REAL  "
            ],
            "text/html": [
              "\n",
              "  <div id=\"df-1fd006a0-1039-4116-920f-ebacf213773b\" class=\"colab-df-container\">\n",
              "    <div>\n",
              "<style scoped>\n",
              "    .dataframe tbody tr th:only-of-type {\n",
              "        vertical-align: middle;\n",
              "    }\n",
              "\n",
              "    .dataframe tbody tr th {\n",
              "        vertical-align: top;\n",
              "    }\n",
              "\n",
              "    .dataframe thead th {\n",
              "        text-align: right;\n",
              "    }\n",
              "</style>\n",
              "<table border=\"1\" class=\"dataframe\">\n",
              "  <thead>\n",
              "    <tr style=\"text-align: right;\">\n",
              "      <th></th>\n",
              "      <th>Unnamed: 0</th>\n",
              "      <th>title</th>\n",
              "      <th>text</th>\n",
              "      <th>label</th>\n",
              "    </tr>\n",
              "  </thead>\n",
              "  <tbody>\n",
              "    <tr>\n",
              "      <th>0</th>\n",
              "      <td>8476</td>\n",
              "      <td>You Can Smell Hillary’s Fear</td>\n",
              "      <td>Daniel Greenfield, a Shillman Journalism Fello...</td>\n",
              "      <td>FAKE</td>\n",
              "    </tr>\n",
              "    <tr>\n",
              "      <th>1</th>\n",
              "      <td>10294</td>\n",
              "      <td>Watch The Exact Moment Paul Ryan Committed Pol...</td>\n",
              "      <td>Google Pinterest Digg Linkedin Reddit Stumbleu...</td>\n",
              "      <td>FAKE</td>\n",
              "    </tr>\n",
              "    <tr>\n",
              "      <th>2</th>\n",
              "      <td>3608</td>\n",
              "      <td>Kerry to go to Paris in gesture of sympathy</td>\n",
              "      <td>U.S. Secretary of State John F. Kerry said Mon...</td>\n",
              "      <td>REAL</td>\n",
              "    </tr>\n",
              "    <tr>\n",
              "      <th>3</th>\n",
              "      <td>10142</td>\n",
              "      <td>Bernie supporters on Twitter erupt in anger ag...</td>\n",
              "      <td>— Kaydee King (@KaydeeKing) November 9, 2016 T...</td>\n",
              "      <td>FAKE</td>\n",
              "    </tr>\n",
              "    <tr>\n",
              "      <th>4</th>\n",
              "      <td>875</td>\n",
              "      <td>The Battle of New York: Why This Primary Matters</td>\n",
              "      <td>It's primary day in New York and front-runners...</td>\n",
              "      <td>REAL</td>\n",
              "    </tr>\n",
              "  </tbody>\n",
              "</table>\n",
              "</div>\n",
              "    <div class=\"colab-df-buttons\">\n",
              "\n",
              "  <div class=\"colab-df-container\">\n",
              "    <button class=\"colab-df-convert\" onclick=\"convertToInteractive('df-1fd006a0-1039-4116-920f-ebacf213773b')\"\n",
              "            title=\"Convert this dataframe to an interactive table.\"\n",
              "            style=\"display:none;\">\n",
              "\n",
              "  <svg xmlns=\"http://www.w3.org/2000/svg\" height=\"24px\" viewBox=\"0 -960 960 960\">\n",
              "    <path d=\"M120-120v-720h720v720H120Zm60-500h600v-160H180v160Zm220 220h160v-160H400v160Zm0 220h160v-160H400v160ZM180-400h160v-160H180v160Zm440 0h160v-160H620v160ZM180-180h160v-160H180v160Zm440 0h160v-160H620v160Z\"/>\n",
              "  </svg>\n",
              "    </button>\n",
              "\n",
              "  <style>\n",
              "    .colab-df-container {\n",
              "      display:flex;\n",
              "      gap: 12px;\n",
              "    }\n",
              "\n",
              "    .colab-df-convert {\n",
              "      background-color: #E8F0FE;\n",
              "      border: none;\n",
              "      border-radius: 50%;\n",
              "      cursor: pointer;\n",
              "      display: none;\n",
              "      fill: #1967D2;\n",
              "      height: 32px;\n",
              "      padding: 0 0 0 0;\n",
              "      width: 32px;\n",
              "    }\n",
              "\n",
              "    .colab-df-convert:hover {\n",
              "      background-color: #E2EBFA;\n",
              "      box-shadow: 0px 1px 2px rgba(60, 64, 67, 0.3), 0px 1px 3px 1px rgba(60, 64, 67, 0.15);\n",
              "      fill: #174EA6;\n",
              "    }\n",
              "\n",
              "    .colab-df-buttons div {\n",
              "      margin-bottom: 4px;\n",
              "    }\n",
              "\n",
              "    [theme=dark] .colab-df-convert {\n",
              "      background-color: #3B4455;\n",
              "      fill: #D2E3FC;\n",
              "    }\n",
              "\n",
              "    [theme=dark] .colab-df-convert:hover {\n",
              "      background-color: #434B5C;\n",
              "      box-shadow: 0px 1px 3px 1px rgba(0, 0, 0, 0.15);\n",
              "      filter: drop-shadow(0px 1px 2px rgba(0, 0, 0, 0.3));\n",
              "      fill: #FFFFFF;\n",
              "    }\n",
              "  </style>\n",
              "\n",
              "    <script>\n",
              "      const buttonEl =\n",
              "        document.querySelector('#df-1fd006a0-1039-4116-920f-ebacf213773b button.colab-df-convert');\n",
              "      buttonEl.style.display =\n",
              "        google.colab.kernel.accessAllowed ? 'block' : 'none';\n",
              "\n",
              "      async function convertToInteractive(key) {\n",
              "        const element = document.querySelector('#df-1fd006a0-1039-4116-920f-ebacf213773b');\n",
              "        const dataTable =\n",
              "          await google.colab.kernel.invokeFunction('convertToInteractive',\n",
              "                                                    [key], {});\n",
              "        if (!dataTable) return;\n",
              "\n",
              "        const docLinkHtml = 'Like what you see? Visit the ' +\n",
              "          '<a target=\"_blank\" href=https://colab.research.google.com/notebooks/data_table.ipynb>data table notebook</a>'\n",
              "          + ' to learn more about interactive tables.';\n",
              "        element.innerHTML = '';\n",
              "        dataTable['output_type'] = 'display_data';\n",
              "        await google.colab.output.renderOutput(dataTable, element);\n",
              "        const docLink = document.createElement('div');\n",
              "        docLink.innerHTML = docLinkHtml;\n",
              "        element.appendChild(docLink);\n",
              "      }\n",
              "    </script>\n",
              "  </div>\n",
              "\n",
              "\n",
              "<div id=\"df-28c17811-9f91-4f1c-b273-6c26e99a9fc3\">\n",
              "  <button class=\"colab-df-quickchart\" onclick=\"quickchart('df-28c17811-9f91-4f1c-b273-6c26e99a9fc3')\"\n",
              "            title=\"Suggest charts\"\n",
              "            style=\"display:none;\">\n",
              "\n",
              "<svg xmlns=\"http://www.w3.org/2000/svg\" height=\"24px\"viewBox=\"0 0 24 24\"\n",
              "     width=\"24px\">\n",
              "    <g>\n",
              "        <path d=\"M19 3H5c-1.1 0-2 .9-2 2v14c0 1.1.9 2 2 2h14c1.1 0 2-.9 2-2V5c0-1.1-.9-2-2-2zM9 17H7v-7h2v7zm4 0h-2V7h2v10zm4 0h-2v-4h2v4z\"/>\n",
              "    </g>\n",
              "</svg>\n",
              "  </button>\n",
              "\n",
              "<style>\n",
              "  .colab-df-quickchart {\n",
              "      --bg-color: #E8F0FE;\n",
              "      --fill-color: #1967D2;\n",
              "      --hover-bg-color: #E2EBFA;\n",
              "      --hover-fill-color: #174EA6;\n",
              "      --disabled-fill-color: #AAA;\n",
              "      --disabled-bg-color: #DDD;\n",
              "  }\n",
              "\n",
              "  [theme=dark] .colab-df-quickchart {\n",
              "      --bg-color: #3B4455;\n",
              "      --fill-color: #D2E3FC;\n",
              "      --hover-bg-color: #434B5C;\n",
              "      --hover-fill-color: #FFFFFF;\n",
              "      --disabled-bg-color: #3B4455;\n",
              "      --disabled-fill-color: #666;\n",
              "  }\n",
              "\n",
              "  .colab-df-quickchart {\n",
              "    background-color: var(--bg-color);\n",
              "    border: none;\n",
              "    border-radius: 50%;\n",
              "    cursor: pointer;\n",
              "    display: none;\n",
              "    fill: var(--fill-color);\n",
              "    height: 32px;\n",
              "    padding: 0;\n",
              "    width: 32px;\n",
              "  }\n",
              "\n",
              "  .colab-df-quickchart:hover {\n",
              "    background-color: var(--hover-bg-color);\n",
              "    box-shadow: 0 1px 2px rgba(60, 64, 67, 0.3), 0 1px 3px 1px rgba(60, 64, 67, 0.15);\n",
              "    fill: var(--button-hover-fill-color);\n",
              "  }\n",
              "\n",
              "  .colab-df-quickchart-complete:disabled,\n",
              "  .colab-df-quickchart-complete:disabled:hover {\n",
              "    background-color: var(--disabled-bg-color);\n",
              "    fill: var(--disabled-fill-color);\n",
              "    box-shadow: none;\n",
              "  }\n",
              "\n",
              "  .colab-df-spinner {\n",
              "    border: 2px solid var(--fill-color);\n",
              "    border-color: transparent;\n",
              "    border-bottom-color: var(--fill-color);\n",
              "    animation:\n",
              "      spin 1s steps(1) infinite;\n",
              "  }\n",
              "\n",
              "  @keyframes spin {\n",
              "    0% {\n",
              "      border-color: transparent;\n",
              "      border-bottom-color: var(--fill-color);\n",
              "      border-left-color: var(--fill-color);\n",
              "    }\n",
              "    20% {\n",
              "      border-color: transparent;\n",
              "      border-left-color: var(--fill-color);\n",
              "      border-top-color: var(--fill-color);\n",
              "    }\n",
              "    30% {\n",
              "      border-color: transparent;\n",
              "      border-left-color: var(--fill-color);\n",
              "      border-top-color: var(--fill-color);\n",
              "      border-right-color: var(--fill-color);\n",
              "    }\n",
              "    40% {\n",
              "      border-color: transparent;\n",
              "      border-right-color: var(--fill-color);\n",
              "      border-top-color: var(--fill-color);\n",
              "    }\n",
              "    60% {\n",
              "      border-color: transparent;\n",
              "      border-right-color: var(--fill-color);\n",
              "    }\n",
              "    80% {\n",
              "      border-color: transparent;\n",
              "      border-right-color: var(--fill-color);\n",
              "      border-bottom-color: var(--fill-color);\n",
              "    }\n",
              "    90% {\n",
              "      border-color: transparent;\n",
              "      border-bottom-color: var(--fill-color);\n",
              "    }\n",
              "  }\n",
              "</style>\n",
              "\n",
              "  <script>\n",
              "    async function quickchart(key) {\n",
              "      const quickchartButtonEl =\n",
              "        document.querySelector('#' + key + ' button');\n",
              "      quickchartButtonEl.disabled = true;  // To prevent multiple clicks.\n",
              "      quickchartButtonEl.classList.add('colab-df-spinner');\n",
              "      try {\n",
              "        const charts = await google.colab.kernel.invokeFunction(\n",
              "            'suggestCharts', [key], {});\n",
              "      } catch (error) {\n",
              "        console.error('Error during call to suggestCharts:', error);\n",
              "      }\n",
              "      quickchartButtonEl.classList.remove('colab-df-spinner');\n",
              "      quickchartButtonEl.classList.add('colab-df-quickchart-complete');\n",
              "    }\n",
              "    (() => {\n",
              "      let quickchartButtonEl =\n",
              "        document.querySelector('#df-28c17811-9f91-4f1c-b273-6c26e99a9fc3 button');\n",
              "      quickchartButtonEl.style.display =\n",
              "        google.colab.kernel.accessAllowed ? 'block' : 'none';\n",
              "    })();\n",
              "  </script>\n",
              "</div>\n",
              "\n",
              "    </div>\n",
              "  </div>\n"
            ],
            "application/vnd.google.colaboratory.intrinsic+json": {
              "type": "dataframe",
              "variable_name": "df",
              "summary": "{\n  \"name\": \"df\",\n  \"rows\": 6335,\n  \"fields\": [\n    {\n      \"column\": \"Unnamed: 0\",\n      \"properties\": {\n        \"dtype\": \"number\",\n        \"std\": 3038,\n        \"min\": 2,\n        \"max\": 10557,\n        \"num_unique_values\": 6335,\n        \"samples\": [\n          9957,\n          7596,\n          8905\n        ],\n        \"semantic_type\": \"\",\n        \"description\": \"\"\n      }\n    },\n    {\n      \"column\": \"title\",\n      \"properties\": {\n        \"dtype\": \"string\",\n        \"num_unique_values\": 6256,\n        \"samples\": [\n          \"Elizabeth Warren's speech attacking Donald Trump made a bigger argument about Republicans\",\n          \"Assange: Clinton And ISIS Are Funded By Same People, \\u201cTrump Not Permitted To Win\\u201d\",\n          \"Reporters Stunned to Learn Trump Fans Lining Up 12 Hours Before Rally Starts\"\n        ],\n        \"semantic_type\": \"\",\n        \"description\": \"\"\n      }\n    },\n    {\n      \"column\": \"text\",\n      \"properties\": {\n        \"dtype\": \"string\",\n        \"num_unique_values\": 6060,\n        \"samples\": [\n          \"Republicans taking control of Congress this coming week will try to overcome their reputation as a divided party hobbled by infighting by working to reshape policy in ways that Americans will feel in corporate boardrooms, on factory floors and at the gas pump.\\n\\nIncoming committee chairmen are preparing fresh oversight of federal agencies while rank-and-file members will be encouraged to use a new budget plan and government spending bills to chip away at President Obama\\u2019s environmental regulations, health-care reform and outreach to Cuba and Iran.\\n\\nAfter years of sparring with the White House, Republicans are eager to demonstrate productivity and some level of bipartisan \\u00adcooperation with Obama and the Democrats. Public disgust with Washington gridlock remains high, and with the 2016 presidential campaign beginning in earnest, broader voter interest \\u2014 especially among independents and Democrats \\u2014 could put recent GOP gains at risk in less than two years.\\n\\n\\u201cOn the things where we agree, the goal will be to make a law, not just put something on [Obama\\u2019s] desk,\\u201d incoming Senate Majority Leader Mitch McConnell (R-Ky.) said in an interview, adding later: \\u201cI want to make it clear: Desire for a signature is not going to dictate everything that we do.\\u201d\\n\\nSecuring final passage of bills will require McConnell and House Speaker John A. Boehner (R-Ohio) to compromise with Democrats while holding together their own ranks, which have clashed repeatedly over issues such as spending and immigration. Many GOP leaders hope that their differences can be set aside in favor of legislative wins.\\n\\nThe House and Senate formally reconvene Tuesday. New members will be sworn in and top leaders and committee chairmen formally installed on a day steeped in tradition and ceremony.\\n\\nBoehner and McConnell will be backed by larger GOP majorities: 246 Republicans in the House \\u2014 the party\\u2019s largest majority since just after World War II \\u2014 and 54 GOP senators, an impressive gain but short of the 60 votes required to overcome most procedural hurdles that Democrats will have at their disposal.\\n\\nIn the Senate, the rebranding effort will begin with energy policy.\\n\\nMcConnell plans to start his tenure as Senate majority leader with a \\u201cfull-throated\\u201d debate on national energy policy, ranging from a new oil pipeline to additional oil exploration. He has also promised consideration of liberal alternatives.\\n\\nMcConnell wants to use the controversial proposal to authorize construction of the Keystone XL pipeline as the gen\\u00adesis for a free-wheeling Senate debate about the United States\\u2019 energy future, in which both sides will have the opportunity to offer and debate more expansive energy issues than the narrow pipeline proposal.\\n\\n\\u201cWe can treat this like a serious and significant energy debate,\\u201d McConnell said in an interview before Christmas in his Capitol office.\\n\\nObama has resisted GOP efforts to authorize the pipeline, but dozens of moderate congressional Democrats support the bill and a broader energy debate.\\n\\nOther Democrats are skeptical of McConnell\\u2019s plans.\\n\\n\\u201cThe $64,000 question as to whether the Congress can get anything done is which way the Republican leadership goes,\\u201d Sen. Charles E. Schumer (D-N.Y.) said in an interview Saturday. \\u201cIf they let the tea party pull them to the right into the path of negativity and obstruction, we\\u2019ll get nothing done.\\u201d\\n\\nSen. John Hoeven (R-N.D.), a lead author of the Keystone bill, said that Republicans plan to consider proposals allowing the export of liquefied natural gas; to give state governments greater power to oversee hydraulic fracturing; and to restrict the federal government\\u2019s role in the construction of cross-border gas pipelines.\\n\\n\\u201cI don\\u2019t think we have an energy bill that doesn\\u2019t have a Democratic co-sponsor on it,\\u201d he said. \\u201cBecause at the end of the day you\\u2019ve got to get at least 60 votes\\u201d to clear procedural hurdles.\\n\\nThe open process is part of McConnell\\u2019s effort to live up to his pledge to restore the Senate\\u2019s grand tradition of free and full debate, while also advancing conservative causes. A skilled practitioner in the use of the Senate\\u2019s arcane procedural rules to move or block legislation, McConnell has pledged to use those rules to score conservative wins. He has been coaching GOP senators that their most likely path to wins will come on the annual spending bills for the federal government \\u2014 which Republicans have routinely opposed on the grounds that they spend too much taxpayer money.\\n\\nOther party leaders echo those sentiments. \\u201cI think a majority [of Republicans] recognize that we have to govern responsibly,\\u201d said Sen. John McCain (R-Ariz.), who will become chairman of the Armed Services Committee. \\u201cWe have to show that we can be a productive party, and that, I think, will have a direct effect on whether we\\u2019re able to elect a Republican as president in 2016.\\u201d\\n\\nBut now, with control of the House and Senate, Republicans have more leeway to attach policy riders to spending bills that will restrict federal agencies in their oversight of environmental, labor and other regulations. These still may draw presidential vetoes, but McConnell believes that Republicans will have leverage to get some restrictions included, just as the mammoth spending measure approved last month included language sought by Wall Street firms making risky trades.\\n\\nIn the House, most of the early weeks will seem like a do-over of the past two years \\u2014 except that many of the bills passed will get swifter Senate consideration.\\n\\nUp first is a veterans employment bill that passed last year with bipartisan support, according to senior leadership aides. There is also a bill to loosen work requirements set by the Affordable Care Act and a similar bill to authorize the Keystone pipeline.\\n\\nThe second week of January will be devoted to a new spending plan for the Department of Homeland Security. The spending bill funds DHS only until the end of February, a move designed to give Republicans more time to craft a legislative response to Obama\\u2019s decision to change immigration policy through executive actions. But no specific proposals have emerged, the aides said.\\n\\nThen there are the investigations into alleged wrongdoing at agencies including the Internal Revenue Service, the Justice Department and the Environmental Protection Agency.\\n\\n\\u201cThere are issues that haven\\u2019t been resolved,\\u201d said Rep. Jason Chaffetz (R-Utah), the new chairman of the House Oversight and Government Reform Committee.\\n\\nHe is launching subcommittees to closely track Obama\\u2019s energy and environmental policies and created \\u201cadministrative rules,\\u201d a panel that will \\u201ctry to figure out what the administration is doing next with its rule-making authority. We\\u2019re going to jump on those as fast as we possibly can,\\u201d he said.\\n\\nBefore the work begins, Boehner is expected to face another leadership challenge. After he survived a close call two years ago, conservative blogs and radio shows are actively supporting another effort to unseat him.\\n\\nPresuming that the 434 currently seated House members show up to vote Tuesday and that all Democrats vote against him, at least 28 of the 246 Republicans also would need to vote against Boehner to deny him the gavel. (The 435th House seat is held by Rep. Michael G. Grimm (R-N.Y.), who plans to resign Monday after recently pleading guilty to tax evasion charges.)\\n\\nRep. Walter B. Jones (R-N.C.), who opposed Boehner two years ago, said in a recent radio interview that he\\u2019ll do it again, adding that at least 16 to 18 Republican members might vote against the speaker. Among them is Rep. Jim Bridenstine (R-Okla.), who said Friday that he will vote against the speaker because the spending bill passed last month didn\\u2019t fully strip DHS of its funding.\\n\\nRep. Tom Cole (R-Okla.), a Boehner ally, said in an interview that \\u201cI expect a few scattered \\u2018no\\u2019 votes. But because Boehner has been strengthened by the gains in the election, the speaker election should mostly be an uneventful coronation.\\u201d\\n\\nThe opening weeks of the new Congress are also expected to include the confirmation of Ashton Carter, Obama\\u2019s pick to lead the Pentagon, and Loretta Lynch to be the next attorney general. Concerns with Iran are also expected to be an early focus. The Obama administration persuaded Senate Democrats last year to hold off debating a bipartisan proposal authorizing stronger sanctions against the Iranian regime.\\n\\nBut Sen. Bob Corker (R-Tenn.), the incoming chairman of the Foreign Relations Committee, said, \\u201cMy guess is fairly early on in some form or fashion the Senate\\u2019s going to want to weigh in on Iran.\\u201d\\n\\nCorker also plans to launch \\u201ca rigorous hearing process\\u201d on Obama\\u2019s decision to restore diplomatic relations with Cuba. Republicans have threatened to block funding for a new embassy in Havana and confirmation of a new ambassador to Cuba. But Obama could veto spending bills that include such restrictions, sparking a showdown over whether the GOP is willing to shutter parts of the government over a new Cuba policy.\\n\\nIn 2016, Republicans will be defending at least 24 Senate seats and about a dozen first-term House members from swing districts around the country. Party leaders have a political imperative to govern and avoid short-term fights with Obama.\\n\\n\\u201cWe will see if there is an opportunity for a fourth quarter for President Obama that actually moves the country in the direction we\\u2019d like to go,\\u201d said Sen. Roger Wicker (R-Miss.), who also will be responsible for helping reelect GOP senators in 2016.\\n\\n\\u201cReagan did it a generation ago working with Democrats. Clinton did it almost two decades ago with welfare reform and deficit reduction,\\u201d he said. \\u201cSo it can be done \\u2014 if the president is disposed to move in that direction.\\u201d\",\n          \"Reps. Kevin McCarthy, R-California, Jason Chaffetz, R-Utah, and Daniel Webster, R-Florida, are the three candidates vying for the post, and the winner becomes the favorite to become second in line to succeed the President of the United States.\\n\\nBut Thursday's vote inside the House GOP conference is just the first step. The candidate who gets the Republican party's internal nod still has to be approved by the full House of Representatives on October 29. And that's where things can get tricky.\\n\\nIf the Republican nominee can't garner 218 votes on the House floor, then Boehner will remain the speaker. And the potential for multiple rounds of votes on the House floor could open up the election to other candidates beyond the three that are in the race now. It would also prolong the deeply divisive and public process for House Republicans, who are hoping to chart a new path forward and prove they can make the dysfunctional Capitol work.\\n\\nThe three candidates will make their pitch to GOP colleagues at a \\\"candidate forum\\\" on Thursday morning in a conference room in the basement of the Capitol. Each gets three minutes to make a speech before answering questions from members. At noon, the 247 members of the House Republican conference gather in the ornate Ways and Means Committee room to vote. Under the House GOP conference rules, the three candidates are not allowed to make their own speeches. Instead each can designate one supporter to make a three-minute address nominating them for the post. Then up to two additional supporters can speak for another minute each on the candidate's behalf. To win the GOP nomination, a candidate needs a simple majority of all House Republicans -- or 125 votes. (That number could change if any House Republicans are absent or opts not to vote in the election.) Boehner plans to vote for McCarthy before heading to New York to tape an appearance on \\\"The Tonight Show,\\\" according to a spokesman. The delegate from American Samoa, Amata Radewagen, who doesn't get a vote on the House floor, does get to cast a vote for speaker inside the conference meeting. RELATED: John Boehner to appear on 'The Tonight Show' Three members serve as \\\"tally clerks\\\" and collect the ballots and count how many votes each candidate receives. Once all the ballots are counted, a representative of the conference will announce the results, along with the vote totals. If no candidate gets a majority of the conference on the first vote, a second ballot circulates with the names of the top two vote-getters, and a winner is announced after those ballots are counted. The new speaker can't take the gavel from Boehner until the full House of Representatives votes. Unlike the private contest on Thursday, the floor vote is covered live by C-SPAN's television cameras inside the House chamber. Each member of Congress is called on in alphabetical order to stand and announce their choice for speaker. The winner must win the votes of a majority -- 218, if everyone in the House is present -- in order to win. The vast majority of House Democrats are expected for to vote for former Speaker and current Minority Leader Nancy Pelosi. House Republican conference rules require that GOP members support their party's nominee on the floor, but many conservatives have ignored that rule in recent elections. That's where any drama will occur. If the GOP nominee fails to get a majority, the contest on the House floor could go to multiple ballots. Boehner will remain the speaker until a majority of the House votes to elect a new candidate. The last time it took more than one ballot to elect a speaker was in 1923 when it took nine ballots over the course of three days. And you don't need to be in the House to get the job. The Constitution does not require that the speaker be someone currently serving in Congress, but all who have been elected to the post have been House members. Former Secretary of State Colin Powell, Sen. Rand Paul and Sen. Jeff Sessions received votes in the January 2015 election . And two years earlier, David Walker, the former head of the General Accounting Office, received one vote\",\n          \"Over the last six years, the Obama administration has been trying to address global warming\\u00a0with a flurry of rules aimed at reducing US carbon-dioxide emissions. First there were stricter fuel-economy standards for cars and trucks. More recently, the EPA\\u00a0proposed sweeping carbon regulations for coal-fired power plants (known as the \\\"Clean Power Plan\\\").\\n\\nThe overarching goal was to cut US greenhouse-gas emissions 17 percent below 2005 levels by 2020. That, the administration believed, would help advance global climate talks.\\n\\nBut all of Obama's moves so far\\u00a0have been insufficient to get to that 17 percent cut by 2020. As recent analyses from the Rhodium Group and the Clean Air Task Force\\u00a0have argued, the US also needs to reduce methane emissions dramatically to get there:\\n\\nCarbon-dioxide is the biggest greenhouse gas responsible for global warming. But it's not the only one. There's also\\u00a0methane.\\u00a0The US burns a lot of methane \\u2014 known as \\\"natural gas\\\" \\u2014 for energy. But when methane leaks out of oil and gas wells or pipelines and into the atmosphere, it acts as a potent greenhouse gas. (The White House says it's 25 times as effective at trapping heat as carbon dioxide. Other scientists say 34 times.)\\n\\nIn 2012, the EPA estimated that methane accounted for roughly\\u00a08.7 percent of US greenhouse-gas emissions (though this may be an\\u00a0underestimate). But experts have warned that methane leaks could be poised to grow in the coming years.\\n\\nThanks to the\\u00a0fracking boom, US energy companies have been extracting more and more natural gas from shale formations. On one level, that's good news for climate change: utilities are now burning more natural gas for electricity instead of coal, which means lower carbon-dioxide emissions from power plants.\\n\\nThe problem is that all this new drilling increases the risk of methane leaking into the air \\u2014 and those leaks\\u00a0are undermining the climate benefits of the gas boom.\\n\\nIn theory, it should be doable to plug these methane emissions,\\u00a0which can come from leaky pipelines or faulty drilling operations. Many companies already\\u00a0use infrared cameras to detect leaks and plug them. And they have financial incentives to do so \\u2014 after all, these companies would rather capture that methane and sell it for money than just have it float off into the air.\\n\\nMany oil and gas companies are already taking steps to detect and plug leaks\\n\\nStill, the White House wants to make sure these leaks really get plugged. So, on Wednesday, it\\u00a0announced a goal of cutting methane emissions from oil and gas operations 45 percent below 2012 levels by 2025.\\n\\nThis would be done through a combination of guidelines for voluntary actions by the industry and a hodgepodge of new regulations\\u00a0crafted by the EPA and other agencies. Some rules would focus on methane leaks from new oil and gas wells. Others would focus on pipelines used to transport the natural gas. The Interior Department is updating standards for drilling on public lands.\\n\\nThe White House noted that the oil and gas industry has already managed to cut methane emissions 16 percent since 1990 through voluntary measures. \\\"Nevertheless,\\\" it added, \\\"emissions from the oil and gas sector are projected to rise more than 25 percent by 2025 without additional steps to lower them.\\\"\\n\\nSome environmental groups said the White House's plan didn't go far enough. For example, the EPA is currently only working on rules to reduce emissions at new oil and gas wells \\u2014 and only much later will they work on rules for\\u00a0existing wells, which are by far the biggest source of emissions.\\n\\n\\\"While setting methane standards for the first time is an important step, failing to immediately regulate existing oil and gas equipment nationwide misses 90% of the methane pollution from the industry,\\\" Conrad Schneider of the Clean Air Task Force said in a statement.\\n\\nJayni Hein, policy director at the Institute for Policy Integrity at NYU School of Law, agreed: \\\"EPA's steps announced today would trim the sector's methane releases by about a third. We can and should go farther by regulating existing oil and natural gas sources.\\\"\\n\\nBy contrast, many oil and gas companies don't want new regulations at all \\u2014 they argue that the industry is already curbing methane leaks as is.\\u00a0\\\"Emissions will continue to fall as operators innovate and find new ways to capture and deliver more methane to consumers,\\\" said Jack Gerard, head of the American Petroleum Institute, in a statement. \\\"Existing EPA and state regulations are working. Another layer of burdensome requirements could actually slow down industry progress to reduce methane emissions.\\\"\\n\\nMeanwhile, it's worth noting that there are other sources of methane besides oil and gas. In 2012,\\u00a0according to the EPA, roughly 30 percent of methane in the United States came from natural-gas and petroleum operations (though, again, that may be an undercount).\\n\\nObama is relying on voluntary measures for methane in agriculture\\n\\n-- By contrast,\\u00a036 percent of US.methane emissions came from agriculture. The beef and dairy industry is a major contributor here: when cows belch, they produce methane (known as \\\"enteric fermentation\\\"). Other sources include decomposing cow manure, as well as methane from rice cultivation.\\n\\n-- Another\\u00a018 percent came from landfills. When food and other trash decays in a landfill, the organisms that feed on that trash emit methane into the atmosphere.\\n\\nThe Obama administration\\u00a0has been working on steps to cut methane in these areas, too. Back in March, the EPA announced it would come up with standards to reduce methane from all future landfills. It will then solicit public comments on whether to regulate landfills that have already been built.\\n\\nAs for cow burps, however, the administration is relying on purely voluntary measures for now. In June 2014, the EPA unveiled a \\\"partnership\\\" with the dairy industry to speed up the adoption of methane digesters that turn cow dung into energy. The hope is to reduce methane emissions from the dairy sector 25 percent by 2020.\\n\\nFurther reading: Obama has promised to cut US emissions 17% by 2020. Is that still possible?\"\n        ],\n        \"semantic_type\": \"\",\n        \"description\": \"\"\n      }\n    },\n    {\n      \"column\": \"label\",\n      \"properties\": {\n        \"dtype\": \"category\",\n        \"num_unique_values\": 2,\n        \"samples\": [\n          \"REAL\",\n          \"FAKE\"\n        ],\n        \"semantic_type\": \"\",\n        \"description\": \"\"\n      }\n    }\n  ]\n}"
            }
          },
          "metadata": {},
          "execution_count": 17
        }
      ]
    },
    {
      "cell_type": "code",
      "source": [
        "df.columns"
      ],
      "metadata": {
        "colab": {
          "base_uri": "https://localhost:8080/"
        },
        "id": "oRub9nsmJ7fv",
        "outputId": "aa74d702-596e-46bd-8574-f7623fed3189"
      },
      "execution_count": null,
      "outputs": [
        {
          "output_type": "execute_result",
          "data": {
            "text/plain": [
              "Index(['Unnamed: 0', 'title', 'text', 'label'], dtype='object')"
            ]
          },
          "metadata": {},
          "execution_count": 18
        }
      ]
    },
    {
      "cell_type": "code",
      "source": [
        "df.drop(columns=['Unnamed: 0','title','label'],inplace=True)"
      ],
      "metadata": {
        "id": "GnweiEPGJrIo"
      },
      "execution_count": null,
      "outputs": []
    },
    {
      "cell_type": "code",
      "source": [
        "df.shape"
      ],
      "metadata": {
        "colab": {
          "base_uri": "https://localhost:8080/"
        },
        "id": "F2wTdQCMNr_a",
        "outputId": "53ccfaaf-5e26-45c4-82b4-069e8276aeab"
      },
      "execution_count": null,
      "outputs": [
        {
          "output_type": "execute_result",
          "data": {
            "text/plain": [
              "(6335, 1)"
            ]
          },
          "metadata": {},
          "execution_count": 20
        }
      ]
    },
    {
      "cell_type": "code",
      "source": [
        "df = df.iloc[:500]"
      ],
      "metadata": {
        "id": "hnv04jEt6ZoI"
      },
      "execution_count": null,
      "outputs": []
    },
    {
      "cell_type": "code",
      "source": [
        "df.shape"
      ],
      "metadata": {
        "colab": {
          "base_uri": "https://localhost:8080/"
        },
        "id": "yYw8UJpO6d9t",
        "outputId": "4ef4e907-ede5-4ddf-d418-a63be99b0f26"
      },
      "execution_count": null,
      "outputs": [
        {
          "output_type": "execute_result",
          "data": {
            "text/plain": [
              "(500, 1)"
            ]
          },
          "metadata": {},
          "execution_count": 23
        }
      ]
    },
    {
      "cell_type": "code",
      "source": [
        "df.head()"
      ],
      "metadata": {
        "colab": {
          "base_uri": "https://localhost:8080/",
          "height": 206
        },
        "id": "-oh-rXU1Ky7r",
        "outputId": "e4bc6acf-8d91-4253-9c16-905a0e582f22"
      },
      "execution_count": null,
      "outputs": [
        {
          "output_type": "execute_result",
          "data": {
            "text/plain": [
              "                                                text\n",
              "0  Daniel Greenfield, a Shillman Journalism Fello...\n",
              "1  Google Pinterest Digg Linkedin Reddit Stumbleu...\n",
              "2  U.S. Secretary of State John F. Kerry said Mon...\n",
              "3  — Kaydee King (@KaydeeKing) November 9, 2016 T...\n",
              "4  It's primary day in New York and front-runners..."
            ],
            "text/html": [
              "\n",
              "  <div id=\"df-1d37ad59-068e-4ed8-a4d1-99b7c3161669\" class=\"colab-df-container\">\n",
              "    <div>\n",
              "<style scoped>\n",
              "    .dataframe tbody tr th:only-of-type {\n",
              "        vertical-align: middle;\n",
              "    }\n",
              "\n",
              "    .dataframe tbody tr th {\n",
              "        vertical-align: top;\n",
              "    }\n",
              "\n",
              "    .dataframe thead th {\n",
              "        text-align: right;\n",
              "    }\n",
              "</style>\n",
              "<table border=\"1\" class=\"dataframe\">\n",
              "  <thead>\n",
              "    <tr style=\"text-align: right;\">\n",
              "      <th></th>\n",
              "      <th>text</th>\n",
              "    </tr>\n",
              "  </thead>\n",
              "  <tbody>\n",
              "    <tr>\n",
              "      <th>0</th>\n",
              "      <td>Daniel Greenfield, a Shillman Journalism Fello...</td>\n",
              "    </tr>\n",
              "    <tr>\n",
              "      <th>1</th>\n",
              "      <td>Google Pinterest Digg Linkedin Reddit Stumbleu...</td>\n",
              "    </tr>\n",
              "    <tr>\n",
              "      <th>2</th>\n",
              "      <td>U.S. Secretary of State John F. Kerry said Mon...</td>\n",
              "    </tr>\n",
              "    <tr>\n",
              "      <th>3</th>\n",
              "      <td>— Kaydee King (@KaydeeKing) November 9, 2016 T...</td>\n",
              "    </tr>\n",
              "    <tr>\n",
              "      <th>4</th>\n",
              "      <td>It's primary day in New York and front-runners...</td>\n",
              "    </tr>\n",
              "  </tbody>\n",
              "</table>\n",
              "</div>\n",
              "    <div class=\"colab-df-buttons\">\n",
              "\n",
              "  <div class=\"colab-df-container\">\n",
              "    <button class=\"colab-df-convert\" onclick=\"convertToInteractive('df-1d37ad59-068e-4ed8-a4d1-99b7c3161669')\"\n",
              "            title=\"Convert this dataframe to an interactive table.\"\n",
              "            style=\"display:none;\">\n",
              "\n",
              "  <svg xmlns=\"http://www.w3.org/2000/svg\" height=\"24px\" viewBox=\"0 -960 960 960\">\n",
              "    <path d=\"M120-120v-720h720v720H120Zm60-500h600v-160H180v160Zm220 220h160v-160H400v160Zm0 220h160v-160H400v160ZM180-400h160v-160H180v160Zm440 0h160v-160H620v160ZM180-180h160v-160H180v160Zm440 0h160v-160H620v160Z\"/>\n",
              "  </svg>\n",
              "    </button>\n",
              "\n",
              "  <style>\n",
              "    .colab-df-container {\n",
              "      display:flex;\n",
              "      gap: 12px;\n",
              "    }\n",
              "\n",
              "    .colab-df-convert {\n",
              "      background-color: #E8F0FE;\n",
              "      border: none;\n",
              "      border-radius: 50%;\n",
              "      cursor: pointer;\n",
              "      display: none;\n",
              "      fill: #1967D2;\n",
              "      height: 32px;\n",
              "      padding: 0 0 0 0;\n",
              "      width: 32px;\n",
              "    }\n",
              "\n",
              "    .colab-df-convert:hover {\n",
              "      background-color: #E2EBFA;\n",
              "      box-shadow: 0px 1px 2px rgba(60, 64, 67, 0.3), 0px 1px 3px 1px rgba(60, 64, 67, 0.15);\n",
              "      fill: #174EA6;\n",
              "    }\n",
              "\n",
              "    .colab-df-buttons div {\n",
              "      margin-bottom: 4px;\n",
              "    }\n",
              "\n",
              "    [theme=dark] .colab-df-convert {\n",
              "      background-color: #3B4455;\n",
              "      fill: #D2E3FC;\n",
              "    }\n",
              "\n",
              "    [theme=dark] .colab-df-convert:hover {\n",
              "      background-color: #434B5C;\n",
              "      box-shadow: 0px 1px 3px 1px rgba(0, 0, 0, 0.15);\n",
              "      filter: drop-shadow(0px 1px 2px rgba(0, 0, 0, 0.3));\n",
              "      fill: #FFFFFF;\n",
              "    }\n",
              "  </style>\n",
              "\n",
              "    <script>\n",
              "      const buttonEl =\n",
              "        document.querySelector('#df-1d37ad59-068e-4ed8-a4d1-99b7c3161669 button.colab-df-convert');\n",
              "      buttonEl.style.display =\n",
              "        google.colab.kernel.accessAllowed ? 'block' : 'none';\n",
              "\n",
              "      async function convertToInteractive(key) {\n",
              "        const element = document.querySelector('#df-1d37ad59-068e-4ed8-a4d1-99b7c3161669');\n",
              "        const dataTable =\n",
              "          await google.colab.kernel.invokeFunction('convertToInteractive',\n",
              "                                                    [key], {});\n",
              "        if (!dataTable) return;\n",
              "\n",
              "        const docLinkHtml = 'Like what you see? Visit the ' +\n",
              "          '<a target=\"_blank\" href=https://colab.research.google.com/notebooks/data_table.ipynb>data table notebook</a>'\n",
              "          + ' to learn more about interactive tables.';\n",
              "        element.innerHTML = '';\n",
              "        dataTable['output_type'] = 'display_data';\n",
              "        await google.colab.output.renderOutput(dataTable, element);\n",
              "        const docLink = document.createElement('div');\n",
              "        docLink.innerHTML = docLinkHtml;\n",
              "        element.appendChild(docLink);\n",
              "      }\n",
              "    </script>\n",
              "  </div>\n",
              "\n",
              "\n",
              "<div id=\"df-e2024d2d-7ad5-4488-a8ff-4fbcd89c104d\">\n",
              "  <button class=\"colab-df-quickchart\" onclick=\"quickchart('df-e2024d2d-7ad5-4488-a8ff-4fbcd89c104d')\"\n",
              "            title=\"Suggest charts\"\n",
              "            style=\"display:none;\">\n",
              "\n",
              "<svg xmlns=\"http://www.w3.org/2000/svg\" height=\"24px\"viewBox=\"0 0 24 24\"\n",
              "     width=\"24px\">\n",
              "    <g>\n",
              "        <path d=\"M19 3H5c-1.1 0-2 .9-2 2v14c0 1.1.9 2 2 2h14c1.1 0 2-.9 2-2V5c0-1.1-.9-2-2-2zM9 17H7v-7h2v7zm4 0h-2V7h2v10zm4 0h-2v-4h2v4z\"/>\n",
              "    </g>\n",
              "</svg>\n",
              "  </button>\n",
              "\n",
              "<style>\n",
              "  .colab-df-quickchart {\n",
              "      --bg-color: #E8F0FE;\n",
              "      --fill-color: #1967D2;\n",
              "      --hover-bg-color: #E2EBFA;\n",
              "      --hover-fill-color: #174EA6;\n",
              "      --disabled-fill-color: #AAA;\n",
              "      --disabled-bg-color: #DDD;\n",
              "  }\n",
              "\n",
              "  [theme=dark] .colab-df-quickchart {\n",
              "      --bg-color: #3B4455;\n",
              "      --fill-color: #D2E3FC;\n",
              "      --hover-bg-color: #434B5C;\n",
              "      --hover-fill-color: #FFFFFF;\n",
              "      --disabled-bg-color: #3B4455;\n",
              "      --disabled-fill-color: #666;\n",
              "  }\n",
              "\n",
              "  .colab-df-quickchart {\n",
              "    background-color: var(--bg-color);\n",
              "    border: none;\n",
              "    border-radius: 50%;\n",
              "    cursor: pointer;\n",
              "    display: none;\n",
              "    fill: var(--fill-color);\n",
              "    height: 32px;\n",
              "    padding: 0;\n",
              "    width: 32px;\n",
              "  }\n",
              "\n",
              "  .colab-df-quickchart:hover {\n",
              "    background-color: var(--hover-bg-color);\n",
              "    box-shadow: 0 1px 2px rgba(60, 64, 67, 0.3), 0 1px 3px 1px rgba(60, 64, 67, 0.15);\n",
              "    fill: var(--button-hover-fill-color);\n",
              "  }\n",
              "\n",
              "  .colab-df-quickchart-complete:disabled,\n",
              "  .colab-df-quickchart-complete:disabled:hover {\n",
              "    background-color: var(--disabled-bg-color);\n",
              "    fill: var(--disabled-fill-color);\n",
              "    box-shadow: none;\n",
              "  }\n",
              "\n",
              "  .colab-df-spinner {\n",
              "    border: 2px solid var(--fill-color);\n",
              "    border-color: transparent;\n",
              "    border-bottom-color: var(--fill-color);\n",
              "    animation:\n",
              "      spin 1s steps(1) infinite;\n",
              "  }\n",
              "\n",
              "  @keyframes spin {\n",
              "    0% {\n",
              "      border-color: transparent;\n",
              "      border-bottom-color: var(--fill-color);\n",
              "      border-left-color: var(--fill-color);\n",
              "    }\n",
              "    20% {\n",
              "      border-color: transparent;\n",
              "      border-left-color: var(--fill-color);\n",
              "      border-top-color: var(--fill-color);\n",
              "    }\n",
              "    30% {\n",
              "      border-color: transparent;\n",
              "      border-left-color: var(--fill-color);\n",
              "      border-top-color: var(--fill-color);\n",
              "      border-right-color: var(--fill-color);\n",
              "    }\n",
              "    40% {\n",
              "      border-color: transparent;\n",
              "      border-right-color: var(--fill-color);\n",
              "      border-top-color: var(--fill-color);\n",
              "    }\n",
              "    60% {\n",
              "      border-color: transparent;\n",
              "      border-right-color: var(--fill-color);\n",
              "    }\n",
              "    80% {\n",
              "      border-color: transparent;\n",
              "      border-right-color: var(--fill-color);\n",
              "      border-bottom-color: var(--fill-color);\n",
              "    }\n",
              "    90% {\n",
              "      border-color: transparent;\n",
              "      border-bottom-color: var(--fill-color);\n",
              "    }\n",
              "  }\n",
              "</style>\n",
              "\n",
              "  <script>\n",
              "    async function quickchart(key) {\n",
              "      const quickchartButtonEl =\n",
              "        document.querySelector('#' + key + ' button');\n",
              "      quickchartButtonEl.disabled = true;  // To prevent multiple clicks.\n",
              "      quickchartButtonEl.classList.add('colab-df-spinner');\n",
              "      try {\n",
              "        const charts = await google.colab.kernel.invokeFunction(\n",
              "            'suggestCharts', [key], {});\n",
              "      } catch (error) {\n",
              "        console.error('Error during call to suggestCharts:', error);\n",
              "      }\n",
              "      quickchartButtonEl.classList.remove('colab-df-spinner');\n",
              "      quickchartButtonEl.classList.add('colab-df-quickchart-complete');\n",
              "    }\n",
              "    (() => {\n",
              "      let quickchartButtonEl =\n",
              "        document.querySelector('#df-e2024d2d-7ad5-4488-a8ff-4fbcd89c104d button');\n",
              "      quickchartButtonEl.style.display =\n",
              "        google.colab.kernel.accessAllowed ? 'block' : 'none';\n",
              "    })();\n",
              "  </script>\n",
              "</div>\n",
              "\n",
              "    </div>\n",
              "  </div>\n"
            ],
            "application/vnd.google.colaboratory.intrinsic+json": {
              "type": "dataframe",
              "variable_name": "df",
              "summary": "{\n  \"name\": \"df\",\n  \"rows\": 500,\n  \"fields\": [\n    {\n      \"column\": \"text\",\n      \"properties\": {\n        \"dtype\": \"string\",\n        \"num_unique_values\": 490,\n        \"samples\": [\n          \"Posted on October 26, 2016 by Barry Soetoro, Esq Published on Oct 26, 2016 by Barry Soetoro HILLARY SUPPORTER (PAID OR UNPAID?) SLEEPS THRU HILLARY\\u2019S RALLY IN COCONUT CREEK, FLA. UNFORTUNATELY, THIS SNOOZING FAN IS POSITIONED OVER HILLARY\\u2019S SHOULDER ON LIVE TV. \\nNOBODY COMES TO HILLARY CLINTON RALLIES \\u2014 BECAUSE SHE\\u2019S BORING AND MENTALLY ILL. WHO WANTS TO WATCH A COMMUNIST WITH DEMENTIA SCREECH ABOUT ROADS AND BRIDGES? \\nHILLARY HAS FINALLY EMERGED FROM HIDING, JUST IN TIME TO STEAL ELECTION 2016 VIA VOTER FRAUD. BUT WILL THE AMERICAN PEOPLE BELIEVE SHE \\u201cWON\\u201d AFTER SEEING HILLARY\\u2019S PATHETIC TINY RALLY CROWDS? BEFORE SHE RIGS THE ELECTION, SHE\\u2019D BETTER DO A BETTER JOB RIGGING HER RALLIES. \\nHILLARY\\u2019S EYEBALL GONE WILD:\",\n          \"With the shake of an Etch-A-Sketch, Mitt Romney reintroduced himself to the Republican Party on Friday as a man interested in running for president because of his desire to address poverty and income inequality. One only wonders why the former governor of Massachusetts neglected to focus on the growing problems the last time he held the title of GOP standard bearer.\\n\\nAddressing a gathering of Republican National Committee officials below deck of the decommissioned U.S.S. Midway aircraft carrier in San Diego, California, Romney ticked off three priorities crucial to what he called the \\\"post-Obama era\\\": making the world safer with a more muscular foreign policy, providing opportunity to all Americans, and lifting people out of poverty.\\n\\n\\\"It's a tragedy, a human tragedy, that the middle class in this country by and large doesn't believe that the future will be better than the past,\\\" he said. \\\"We haven't seen rising incomes over decades.\\\"\\n\\n\\\"The rich have gotten richer, income inequality has gotten worse and there are more people in poverty than ever before under this president,\\\" he added.\\n\\nRomney stressed his years as an LDS pastor, a topic he and his campaign rarely broached in 2012, and described working \\\"with people who are very poor to help them get help.\\\"\\n\\nThe governor isn't the only potential Republican presidential candidate to embrace a more populist tone as wage growth continues to lag in an accelerating economic recovery. Former Florida Gov. Jeb Bush recently lamented that \\\"while the last eight years have been pretty good ones for top-earners, they've been a lost decade for the rest of America.\\\" Former Pennsylvania Sen. Rick Santorum has emphasized reconnecting with blue collar Americans. Even die-hard conservatives like Sens. Rand Paul (R-Ky.) and Ted Cruz (R-Texas) paid lip service to the matter at the Heritage Foundation policy summit, an annual gathering of conservatives in Washington.\\n\\nWhile he may be sincere in his pursuit to eliminate poverty, the notion that Romney would be the best candidate to lead his party in doing so is puzzling at best. The former Massachusetts governor didn't have just one misstep that allowed Democrats and Republican primary opponents to paint him as an obscenely wealthy, out-of-touch plutocrat in the 2012 election -- he had a dozen. Here's just a brief sampling:\\n\\n\\\"I'm in this race because I care about Americans. I'm not concerned about the very poor. We have a safety net there. If it needs repair, I'll fix it,\\\" he said inelegantly following his victory in the Florida primary. \\\"I'm not concerned about the very rich, they're doing just fine. I'm concerned about the very heart of the America, the 90 percent, 95 percent of Americans who right now are struggling.\\\"\\n\\n\\\"Corporations are people, my friend ... of course they are. Everything corporations earn ultimately goes to the people,\\\" he said before the Iowa Ames straw poll.\\n\\nAnd his infamous remarks about \\\"47 percent\\\" of Americans: \\\"My job is not to worry about those people -- I'll never convince them that they should take personal responsibility and care for their lives.\\\"\\n\\nBut it's not just the gaffes. Romney embraced the Paul Ryan budget in 2012 -- a sweeping plan that, if enacted, would have instituted draconian cuts to programs affecting the poor. Millions of low-income Americans benefiting from Medicare, Medicaid and Social Security, as well as other retirement funding, would have been affected under a Romney presidency. Added to his promise to repeal the Affordable Care Act and its subsidies for the poor, it's not hard to see how Romney wouldn't be vexed by some of the same problems should he ultimately decide to run for president.\",\n          \"(Before It's News)\\nIvanka Trump is going to have to back off from her father\\u2019s campaign, because the hateful and sexist rhetoric of Donald Trump is severely hurting Ivanka\\u2019s clothing and lifestyle brand.\\nWomen are turning on Ivanka Trump as she continues supporting her father despite allegations of sexual harassment against him and a 2005 audio tape capturing him bragging in lewd terms that he can do whatever he wants to women.\\nNow, the growing group of women are boycotting her line of clothing, jewelry, perfume and accessories sold as part of the Ivanka Trump Collection. They are also calling on the stores that carry the brand, including Nordstrom, Bloomingdale\\u2019s and Macy\\u2019s, to stop selling it.\\nIt has even created its own hashtag, #Ivankant, as well as #GrabYourWallet.\\nFrom The Daily Mail :\\n\\u2018If Ivanka Trump had distanced herself from the campaign I would not be boycotting her,\\u2019 Shannon Coulter, who called on Americans to boycott the brand earlier this month, told the Guardian.\\n\\u2018But something changed for me when that tape was released.\\u2019\\nCoulter, who shared her own experience of sexual harassment at the hands of a male superior, launched the hashtag \\u2018GrabYourWallet\\u2019 on October 11, a reference to Trump\\u2019s offensive \\u2018grab them by the p***y\\u2019 remark from the audio tape.\\nThe problem obviously for Ivanka, is that Donald Trump\\u2019s base, for the most part, doesn\\u2019t shop at Bloomingdale\\u2019s or Nordstrom, which are two of the largest stores that carry her clothing line, along with Macy\\u2019s.\\nWhat are your thoughts, should Ivanka\\u2019s business be hurt because of the actions of her father?\\nFrom Politico:\\nThe New York Times cited a deposition from a woman who claimed that Donald Trump groped her under the table decades ago, but the presumptive Republican presidential nominee is certainly not a groper, his daughter said Wednesday.\\n\\u201cLook, I\\u2019m not in every interaction my father has, but he\\u2019s not a groper,\\u201d Ivanka Trump said in an interview broadcast Wednesday on \\u201cCBS This Morning.\\u201d \\u201cIt\\u2019s not who he is. And I\\u2019ve known my father obviously my whole life and he has total respect for women.\\u201d\\nThe billionaire businessman launched a Twitter salvo the \\u201cfailing\\u201d newspaper for its \\u201cfalse, malicious & libelous story,\\u201d catapulting the story to become the newspaper\\u2019s most popular of the year, according to assistant news editor Theodore Kim.\\n\\u2014\\nIvanka Trump said she read the Sunday cover story and \\u201cfound it to be pretty disturbing, based on the facts as I know them, and obviously I very much know them\\u201d as a daughter and an executive who\\u2019s worked alongside him for more than a decade.\\n\\u201cI was bothered by it, but it\\u2019s largely been discredited since,\\u201d she said, referring to Brewer Lane\\u2019s criticism of the report. Brewer Lane, the ex-girlfriend whose first run-in with Donald Trump was used as the lead anecdote for the article, titled \\u201cCrossing the Line: How Donald Trump Behaved With Women in Private,\\u201d accused the newspaper of putting a negative connotation on her words.\\n\\u201cMost of the time when stories are inaccurate they\\u2019re not discredited, and I will be frustrated by that, but in this case I think they went so far,\\u201d Ivanka Trump continued. \\u201cThey had such a strong thesis and created facts to reinforce it and, you know, I think that narrative has been playing out now and there\\u2019s backlash in that regard.\\u201d\\nSource RealTimePolitics.com Check out more contributions by Jeffery Pritchett ranging from UFO to Bigfoot to Paranormal to Prophecy\"\n        ],\n        \"semantic_type\": \"\",\n        \"description\": \"\"\n      }\n    }\n  ]\n}"
            }
          },
          "metadata": {},
          "execution_count": 25
        }
      ]
    },
    {
      "cell_type": "markdown",
      "source": [
        "## Text Summarization"
      ],
      "metadata": {
        "id": "aODGjgPWwfgg"
      }
    },
    {
      "cell_type": "code",
      "source": [
        "df['summarized text'] = df['text'].apply(text_summarization)"
      ],
      "metadata": {
        "id": "19vaTuZcK42Q"
      },
      "execution_count": null,
      "outputs": []
    },
    {
      "cell_type": "code",
      "source": [
        "df.head()"
      ],
      "metadata": {
        "colab": {
          "base_uri": "https://localhost:8080/",
          "height": 1933
        },
        "id": "4HG5qrEORTr3",
        "outputId": "4d53567b-8bf5-47a3-9229-179a29131801"
      },
      "execution_count": null,
      "outputs": [
        {
          "output_type": "execute_result",
          "data": {
            "text/plain": [
              "                                                text  \\\n",
              "0  Daniel Greenfield, a Shillman Journalism Fello...   \n",
              "1  Google Pinterest Digg Linkedin Reddit Stumbleu...   \n",
              "2  U.S. Secretary of State John F. Kerry said Mon...   \n",
              "3  — Kaydee King (@KaydeeKing) November 9, 2016 T...   \n",
              "4  It's primary day in New York and front-runners...   \n",
              "\n",
              "                                     summarized text  \n",
              "0  In the final stretch of the election, Hillary ...  \n",
              "1  In a particularly staggering example of politi...  \n",
              "2  U.S. Secretary of State John F. Kerry said Mon...  \n",
              "3  https://t.co/KHyOuUSrFS \\n— Teachers for Berni...  \n",
              "4  While wins in New York for Trump and Clinton a...  "
            ],
            "text/html": [
              "\n",
              "  <div id=\"df-9e64d0ce-bdce-44b2-85a9-ffb9beb78b96\" class=\"colab-df-container\">\n",
              "    <div>\n",
              "<style scoped>\n",
              "    .dataframe tbody tr th:only-of-type {\n",
              "        vertical-align: middle;\n",
              "    }\n",
              "\n",
              "    .dataframe tbody tr th {\n",
              "        vertical-align: top;\n",
              "    }\n",
              "\n",
              "    .dataframe thead th {\n",
              "        text-align: right;\n",
              "    }\n",
              "</style>\n",
              "<table border=\"1\" class=\"dataframe\">\n",
              "  <thead>\n",
              "    <tr style=\"text-align: right;\">\n",
              "      <th></th>\n",
              "      <th>text</th>\n",
              "      <th>summarized text</th>\n",
              "    </tr>\n",
              "  </thead>\n",
              "  <tbody>\n",
              "    <tr>\n",
              "      <th>0</th>\n",
              "      <td>Daniel Greenfield, a Shillman Journalism Fello...</td>\n",
              "      <td>In the final stretch of the election, Hillary ...</td>\n",
              "    </tr>\n",
              "    <tr>\n",
              "      <th>1</th>\n",
              "      <td>Google Pinterest Digg Linkedin Reddit Stumbleu...</td>\n",
              "      <td>In a particularly staggering example of politi...</td>\n",
              "    </tr>\n",
              "    <tr>\n",
              "      <th>2</th>\n",
              "      <td>U.S. Secretary of State John F. Kerry said Mon...</td>\n",
              "      <td>U.S. Secretary of State John F. Kerry said Mon...</td>\n",
              "    </tr>\n",
              "    <tr>\n",
              "      <th>3</th>\n",
              "      <td>— Kaydee King (@KaydeeKing) November 9, 2016 T...</td>\n",
              "      <td>https://t.co/KHyOuUSrFS \\n— Teachers for Berni...</td>\n",
              "    </tr>\n",
              "    <tr>\n",
              "      <th>4</th>\n",
              "      <td>It's primary day in New York and front-runners...</td>\n",
              "      <td>While wins in New York for Trump and Clinton a...</td>\n",
              "    </tr>\n",
              "  </tbody>\n",
              "</table>\n",
              "</div>\n",
              "    <div class=\"colab-df-buttons\">\n",
              "\n",
              "  <div class=\"colab-df-container\">\n",
              "    <button class=\"colab-df-convert\" onclick=\"convertToInteractive('df-9e64d0ce-bdce-44b2-85a9-ffb9beb78b96')\"\n",
              "            title=\"Convert this dataframe to an interactive table.\"\n",
              "            style=\"display:none;\">\n",
              "\n",
              "  <svg xmlns=\"http://www.w3.org/2000/svg\" height=\"24px\" viewBox=\"0 -960 960 960\">\n",
              "    <path d=\"M120-120v-720h720v720H120Zm60-500h600v-160H180v160Zm220 220h160v-160H400v160Zm0 220h160v-160H400v160ZM180-400h160v-160H180v160Zm440 0h160v-160H620v160ZM180-180h160v-160H180v160Zm440 0h160v-160H620v160Z\"/>\n",
              "  </svg>\n",
              "    </button>\n",
              "\n",
              "  <style>\n",
              "    .colab-df-container {\n",
              "      display:flex;\n",
              "      gap: 12px;\n",
              "    }\n",
              "\n",
              "    .colab-df-convert {\n",
              "      background-color: #E8F0FE;\n",
              "      border: none;\n",
              "      border-radius: 50%;\n",
              "      cursor: pointer;\n",
              "      display: none;\n",
              "      fill: #1967D2;\n",
              "      height: 32px;\n",
              "      padding: 0 0 0 0;\n",
              "      width: 32px;\n",
              "    }\n",
              "\n",
              "    .colab-df-convert:hover {\n",
              "      background-color: #E2EBFA;\n",
              "      box-shadow: 0px 1px 2px rgba(60, 64, 67, 0.3), 0px 1px 3px 1px rgba(60, 64, 67, 0.15);\n",
              "      fill: #174EA6;\n",
              "    }\n",
              "\n",
              "    .colab-df-buttons div {\n",
              "      margin-bottom: 4px;\n",
              "    }\n",
              "\n",
              "    [theme=dark] .colab-df-convert {\n",
              "      background-color: #3B4455;\n",
              "      fill: #D2E3FC;\n",
              "    }\n",
              "\n",
              "    [theme=dark] .colab-df-convert:hover {\n",
              "      background-color: #434B5C;\n",
              "      box-shadow: 0px 1px 3px 1px rgba(0, 0, 0, 0.15);\n",
              "      filter: drop-shadow(0px 1px 2px rgba(0, 0, 0, 0.3));\n",
              "      fill: #FFFFFF;\n",
              "    }\n",
              "  </style>\n",
              "\n",
              "    <script>\n",
              "      const buttonEl =\n",
              "        document.querySelector('#df-9e64d0ce-bdce-44b2-85a9-ffb9beb78b96 button.colab-df-convert');\n",
              "      buttonEl.style.display =\n",
              "        google.colab.kernel.accessAllowed ? 'block' : 'none';\n",
              "\n",
              "      async function convertToInteractive(key) {\n",
              "        const element = document.querySelector('#df-9e64d0ce-bdce-44b2-85a9-ffb9beb78b96');\n",
              "        const dataTable =\n",
              "          await google.colab.kernel.invokeFunction('convertToInteractive',\n",
              "                                                    [key], {});\n",
              "        if (!dataTable) return;\n",
              "\n",
              "        const docLinkHtml = 'Like what you see? Visit the ' +\n",
              "          '<a target=\"_blank\" href=https://colab.research.google.com/notebooks/data_table.ipynb>data table notebook</a>'\n",
              "          + ' to learn more about interactive tables.';\n",
              "        element.innerHTML = '';\n",
              "        dataTable['output_type'] = 'display_data';\n",
              "        await google.colab.output.renderOutput(dataTable, element);\n",
              "        const docLink = document.createElement('div');\n",
              "        docLink.innerHTML = docLinkHtml;\n",
              "        element.appendChild(docLink);\n",
              "      }\n",
              "    </script>\n",
              "  </div>\n",
              "\n",
              "\n",
              "<div id=\"df-fc846a4d-8675-40c9-a5fa-ae91e64f64e0\">\n",
              "  <button class=\"colab-df-quickchart\" onclick=\"quickchart('df-fc846a4d-8675-40c9-a5fa-ae91e64f64e0')\"\n",
              "            title=\"Suggest charts\"\n",
              "            style=\"display:none;\">\n",
              "\n",
              "<svg xmlns=\"http://www.w3.org/2000/svg\" height=\"24px\"viewBox=\"0 0 24 24\"\n",
              "     width=\"24px\">\n",
              "    <g>\n",
              "        <path d=\"M19 3H5c-1.1 0-2 .9-2 2v14c0 1.1.9 2 2 2h14c1.1 0 2-.9 2-2V5c0-1.1-.9-2-2-2zM9 17H7v-7h2v7zm4 0h-2V7h2v10zm4 0h-2v-4h2v4z\"/>\n",
              "    </g>\n",
              "</svg>\n",
              "  </button>\n",
              "\n",
              "<style>\n",
              "  .colab-df-quickchart {\n",
              "      --bg-color: #E8F0FE;\n",
              "      --fill-color: #1967D2;\n",
              "      --hover-bg-color: #E2EBFA;\n",
              "      --hover-fill-color: #174EA6;\n",
              "      --disabled-fill-color: #AAA;\n",
              "      --disabled-bg-color: #DDD;\n",
              "  }\n",
              "\n",
              "  [theme=dark] .colab-df-quickchart {\n",
              "      --bg-color: #3B4455;\n",
              "      --fill-color: #D2E3FC;\n",
              "      --hover-bg-color: #434B5C;\n",
              "      --hover-fill-color: #FFFFFF;\n",
              "      --disabled-bg-color: #3B4455;\n",
              "      --disabled-fill-color: #666;\n",
              "  }\n",
              "\n",
              "  .colab-df-quickchart {\n",
              "    background-color: var(--bg-color);\n",
              "    border: none;\n",
              "    border-radius: 50%;\n",
              "    cursor: pointer;\n",
              "    display: none;\n",
              "    fill: var(--fill-color);\n",
              "    height: 32px;\n",
              "    padding: 0;\n",
              "    width: 32px;\n",
              "  }\n",
              "\n",
              "  .colab-df-quickchart:hover {\n",
              "    background-color: var(--hover-bg-color);\n",
              "    box-shadow: 0 1px 2px rgba(60, 64, 67, 0.3), 0 1px 3px 1px rgba(60, 64, 67, 0.15);\n",
              "    fill: var(--button-hover-fill-color);\n",
              "  }\n",
              "\n",
              "  .colab-df-quickchart-complete:disabled,\n",
              "  .colab-df-quickchart-complete:disabled:hover {\n",
              "    background-color: var(--disabled-bg-color);\n",
              "    fill: var(--disabled-fill-color);\n",
              "    box-shadow: none;\n",
              "  }\n",
              "\n",
              "  .colab-df-spinner {\n",
              "    border: 2px solid var(--fill-color);\n",
              "    border-color: transparent;\n",
              "    border-bottom-color: var(--fill-color);\n",
              "    animation:\n",
              "      spin 1s steps(1) infinite;\n",
              "  }\n",
              "\n",
              "  @keyframes spin {\n",
              "    0% {\n",
              "      border-color: transparent;\n",
              "      border-bottom-color: var(--fill-color);\n",
              "      border-left-color: var(--fill-color);\n",
              "    }\n",
              "    20% {\n",
              "      border-color: transparent;\n",
              "      border-left-color: var(--fill-color);\n",
              "      border-top-color: var(--fill-color);\n",
              "    }\n",
              "    30% {\n",
              "      border-color: transparent;\n",
              "      border-left-color: var(--fill-color);\n",
              "      border-top-color: var(--fill-color);\n",
              "      border-right-color: var(--fill-color);\n",
              "    }\n",
              "    40% {\n",
              "      border-color: transparent;\n",
              "      border-right-color: var(--fill-color);\n",
              "      border-top-color: var(--fill-color);\n",
              "    }\n",
              "    60% {\n",
              "      border-color: transparent;\n",
              "      border-right-color: var(--fill-color);\n",
              "    }\n",
              "    80% {\n",
              "      border-color: transparent;\n",
              "      border-right-color: var(--fill-color);\n",
              "      border-bottom-color: var(--fill-color);\n",
              "    }\n",
              "    90% {\n",
              "      border-color: transparent;\n",
              "      border-bottom-color: var(--fill-color);\n",
              "    }\n",
              "  }\n",
              "</style>\n",
              "\n",
              "  <script>\n",
              "    async function quickchart(key) {\n",
              "      const quickchartButtonEl =\n",
              "        document.querySelector('#' + key + ' button');\n",
              "      quickchartButtonEl.disabled = true;  // To prevent multiple clicks.\n",
              "      quickchartButtonEl.classList.add('colab-df-spinner');\n",
              "      try {\n",
              "        const charts = await google.colab.kernel.invokeFunction(\n",
              "            'suggestCharts', [key], {});\n",
              "      } catch (error) {\n",
              "        console.error('Error during call to suggestCharts:', error);\n",
              "      }\n",
              "      quickchartButtonEl.classList.remove('colab-df-spinner');\n",
              "      quickchartButtonEl.classList.add('colab-df-quickchart-complete');\n",
              "    }\n",
              "    (() => {\n",
              "      let quickchartButtonEl =\n",
              "        document.querySelector('#df-fc846a4d-8675-40c9-a5fa-ae91e64f64e0 button');\n",
              "      quickchartButtonEl.style.display =\n",
              "        google.colab.kernel.accessAllowed ? 'block' : 'none';\n",
              "    })();\n",
              "  </script>\n",
              "</div>\n",
              "\n",
              "    </div>\n",
              "  </div>\n"
            ],
            "application/vnd.google.colaboratory.intrinsic+json": {
              "type": "dataframe",
              "variable_name": "df",
              "summary": "{\n  \"name\": \"df\",\n  \"rows\": 500,\n  \"fields\": [\n    {\n      \"column\": \"text\",\n      \"properties\": {\n        \"dtype\": \"string\",\n        \"num_unique_values\": 490,\n        \"samples\": [\n          \"Posted on October 26, 2016 by Barry Soetoro, Esq Published on Oct 26, 2016 by Barry Soetoro HILLARY SUPPORTER (PAID OR UNPAID?) SLEEPS THRU HILLARY\\u2019S RALLY IN COCONUT CREEK, FLA. UNFORTUNATELY, THIS SNOOZING FAN IS POSITIONED OVER HILLARY\\u2019S SHOULDER ON LIVE TV. \\nNOBODY COMES TO HILLARY CLINTON RALLIES \\u2014 BECAUSE SHE\\u2019S BORING AND MENTALLY ILL. WHO WANTS TO WATCH A COMMUNIST WITH DEMENTIA SCREECH ABOUT ROADS AND BRIDGES? \\nHILLARY HAS FINALLY EMERGED FROM HIDING, JUST IN TIME TO STEAL ELECTION 2016 VIA VOTER FRAUD. BUT WILL THE AMERICAN PEOPLE BELIEVE SHE \\u201cWON\\u201d AFTER SEEING HILLARY\\u2019S PATHETIC TINY RALLY CROWDS? BEFORE SHE RIGS THE ELECTION, SHE\\u2019D BETTER DO A BETTER JOB RIGGING HER RALLIES. \\nHILLARY\\u2019S EYEBALL GONE WILD:\",\n          \"With the shake of an Etch-A-Sketch, Mitt Romney reintroduced himself to the Republican Party on Friday as a man interested in running for president because of his desire to address poverty and income inequality. One only wonders why the former governor of Massachusetts neglected to focus on the growing problems the last time he held the title of GOP standard bearer.\\n\\nAddressing a gathering of Republican National Committee officials below deck of the decommissioned U.S.S. Midway aircraft carrier in San Diego, California, Romney ticked off three priorities crucial to what he called the \\\"post-Obama era\\\": making the world safer with a more muscular foreign policy, providing opportunity to all Americans, and lifting people out of poverty.\\n\\n\\\"It's a tragedy, a human tragedy, that the middle class in this country by and large doesn't believe that the future will be better than the past,\\\" he said. \\\"We haven't seen rising incomes over decades.\\\"\\n\\n\\\"The rich have gotten richer, income inequality has gotten worse and there are more people in poverty than ever before under this president,\\\" he added.\\n\\nRomney stressed his years as an LDS pastor, a topic he and his campaign rarely broached in 2012, and described working \\\"with people who are very poor to help them get help.\\\"\\n\\nThe governor isn't the only potential Republican presidential candidate to embrace a more populist tone as wage growth continues to lag in an accelerating economic recovery. Former Florida Gov. Jeb Bush recently lamented that \\\"while the last eight years have been pretty good ones for top-earners, they've been a lost decade for the rest of America.\\\" Former Pennsylvania Sen. Rick Santorum has emphasized reconnecting with blue collar Americans. Even die-hard conservatives like Sens. Rand Paul (R-Ky.) and Ted Cruz (R-Texas) paid lip service to the matter at the Heritage Foundation policy summit, an annual gathering of conservatives in Washington.\\n\\nWhile he may be sincere in his pursuit to eliminate poverty, the notion that Romney would be the best candidate to lead his party in doing so is puzzling at best. The former Massachusetts governor didn't have just one misstep that allowed Democrats and Republican primary opponents to paint him as an obscenely wealthy, out-of-touch plutocrat in the 2012 election -- he had a dozen. Here's just a brief sampling:\\n\\n\\\"I'm in this race because I care about Americans. I'm not concerned about the very poor. We have a safety net there. If it needs repair, I'll fix it,\\\" he said inelegantly following his victory in the Florida primary. \\\"I'm not concerned about the very rich, they're doing just fine. I'm concerned about the very heart of the America, the 90 percent, 95 percent of Americans who right now are struggling.\\\"\\n\\n\\\"Corporations are people, my friend ... of course they are. Everything corporations earn ultimately goes to the people,\\\" he said before the Iowa Ames straw poll.\\n\\nAnd his infamous remarks about \\\"47 percent\\\" of Americans: \\\"My job is not to worry about those people -- I'll never convince them that they should take personal responsibility and care for their lives.\\\"\\n\\nBut it's not just the gaffes. Romney embraced the Paul Ryan budget in 2012 -- a sweeping plan that, if enacted, would have instituted draconian cuts to programs affecting the poor. Millions of low-income Americans benefiting from Medicare, Medicaid and Social Security, as well as other retirement funding, would have been affected under a Romney presidency. Added to his promise to repeal the Affordable Care Act and its subsidies for the poor, it's not hard to see how Romney wouldn't be vexed by some of the same problems should he ultimately decide to run for president.\",\n          \"(Before It's News)\\nIvanka Trump is going to have to back off from her father\\u2019s campaign, because the hateful and sexist rhetoric of Donald Trump is severely hurting Ivanka\\u2019s clothing and lifestyle brand.\\nWomen are turning on Ivanka Trump as she continues supporting her father despite allegations of sexual harassment against him and a 2005 audio tape capturing him bragging in lewd terms that he can do whatever he wants to women.\\nNow, the growing group of women are boycotting her line of clothing, jewelry, perfume and accessories sold as part of the Ivanka Trump Collection. They are also calling on the stores that carry the brand, including Nordstrom, Bloomingdale\\u2019s and Macy\\u2019s, to stop selling it.\\nIt has even created its own hashtag, #Ivankant, as well as #GrabYourWallet.\\nFrom The Daily Mail :\\n\\u2018If Ivanka Trump had distanced herself from the campaign I would not be boycotting her,\\u2019 Shannon Coulter, who called on Americans to boycott the brand earlier this month, told the Guardian.\\n\\u2018But something changed for me when that tape was released.\\u2019\\nCoulter, who shared her own experience of sexual harassment at the hands of a male superior, launched the hashtag \\u2018GrabYourWallet\\u2019 on October 11, a reference to Trump\\u2019s offensive \\u2018grab them by the p***y\\u2019 remark from the audio tape.\\nThe problem obviously for Ivanka, is that Donald Trump\\u2019s base, for the most part, doesn\\u2019t shop at Bloomingdale\\u2019s or Nordstrom, which are two of the largest stores that carry her clothing line, along with Macy\\u2019s.\\nWhat are your thoughts, should Ivanka\\u2019s business be hurt because of the actions of her father?\\nFrom Politico:\\nThe New York Times cited a deposition from a woman who claimed that Donald Trump groped her under the table decades ago, but the presumptive Republican presidential nominee is certainly not a groper, his daughter said Wednesday.\\n\\u201cLook, I\\u2019m not in every interaction my father has, but he\\u2019s not a groper,\\u201d Ivanka Trump said in an interview broadcast Wednesday on \\u201cCBS This Morning.\\u201d \\u201cIt\\u2019s not who he is. And I\\u2019ve known my father obviously my whole life and he has total respect for women.\\u201d\\nThe billionaire businessman launched a Twitter salvo the \\u201cfailing\\u201d newspaper for its \\u201cfalse, malicious & libelous story,\\u201d catapulting the story to become the newspaper\\u2019s most popular of the year, according to assistant news editor Theodore Kim.\\n\\u2014\\nIvanka Trump said she read the Sunday cover story and \\u201cfound it to be pretty disturbing, based on the facts as I know them, and obviously I very much know them\\u201d as a daughter and an executive who\\u2019s worked alongside him for more than a decade.\\n\\u201cI was bothered by it, but it\\u2019s largely been discredited since,\\u201d she said, referring to Brewer Lane\\u2019s criticism of the report. Brewer Lane, the ex-girlfriend whose first run-in with Donald Trump was used as the lead anecdote for the article, titled \\u201cCrossing the Line: How Donald Trump Behaved With Women in Private,\\u201d accused the newspaper of putting a negative connotation on her words.\\n\\u201cMost of the time when stories are inaccurate they\\u2019re not discredited, and I will be frustrated by that, but in this case I think they went so far,\\u201d Ivanka Trump continued. \\u201cThey had such a strong thesis and created facts to reinforce it and, you know, I think that narrative has been playing out now and there\\u2019s backlash in that regard.\\u201d\\nSource RealTimePolitics.com Check out more contributions by Jeffery Pritchett ranging from UFO to Bigfoot to Paranormal to Prophecy\"\n        ],\n        \"semantic_type\": \"\",\n        \"description\": \"\"\n      }\n    },\n    {\n      \"column\": \"summarized text\",\n      \"properties\": {\n        \"dtype\": \"string\",\n        \"num_unique_values\": 487,\n        \"samples\": [\n          \"In Iowa and New Hampshire, Sanders had done better than Clinton among voters in the lowest income brackets. Clinton did best among poor voters in South Carolina, taking 82 percent of those who earn under $30,000 on her way to a 37-point victory, according to exit polling by the New York Times.\",\n          \"Nuland, who most agree will be Hillary Clinton's Secretary of State should she reach office, is the most deadly psychopath the American people could possibly put in charge of our foreign service. The Circus of Liars I must point out that Barack Obama has had more State Department spokespersons than any president in history.\",\n          \"You\\u2019re 19-Yrs-Old, You Have a 2-Yr-Old Child, a Dead Boyfriend\\u2026\\u201d You may also like... Next Story \\u2192 Judge Judy LOSES IT on Hood Rat: \\u201cYou Sound Stupid!\"\n        ],\n        \"semantic_type\": \"\",\n        \"description\": \"\"\n      }\n    }\n  ]\n}"
            }
          },
          "metadata": {},
          "execution_count": 27
        }
      ]
    },
    {
      "cell_type": "code",
      "source": [
        "df.to_csv('summarized_news.csv', index=False)"
      ],
      "metadata": {
        "id": "dTXPfuIUMg0d"
      },
      "execution_count": null,
      "outputs": []
    },
    {
      "cell_type": "code",
      "source": [
        "print(\"Original Document:\")\n",
        "print(df.text[0])\n",
        "print(\"\\nSummary:\")\n",
        "print(df['summarized text'][0])"
      ],
      "metadata": {
        "id": "IGvFZ1v_Ri0m",
        "colab": {
          "base_uri": "https://localhost:8080/"
        },
        "outputId": "22e9a01c-0e32-43b1-8cb8-144aad5d91cf"
      },
      "execution_count": null,
      "outputs": [
        {
          "output_type": "stream",
          "name": "stdout",
          "text": [
            "Original Document:\n",
            "Daniel Greenfield, a Shillman Journalism Fellow at the Freedom Center, is a New York writer focusing on radical Islam. \n",
            "In the final stretch of the election, Hillary Rodham Clinton has gone to war with the FBI. \n",
            "The word “unprecedented” has been thrown around so often this election that it ought to be retired. But it’s still unprecedented for the nominee of a major political party to go war with the FBI. \n",
            "But that’s exactly what Hillary and her people have done. Coma patients just waking up now and watching an hour of CNN from their hospital beds would assume that FBI Director James Comey is Hillary’s opponent in this election. \n",
            "The FBI is under attack by everyone from Obama to CNN. Hillary’s people have circulated a letter attacking Comey. There are currently more media hit pieces lambasting him than targeting Trump. It wouldn’t be too surprising if the Clintons or their allies were to start running attack ads against the FBI. \n",
            "The FBI’s leadership is being warned that the entire left-wing establishment will form a lynch mob if they continue going after Hillary. And the FBI’s credibility is being attacked by the media and the Democrats to preemptively head off the results of the investigation of the Clinton Foundation and Hillary Clinton. \n",
            "The covert struggle between FBI agents and Obama’s DOJ people has gone explosively public. \n",
            "The New York Times has compared Comey to J. Edgar Hoover. Its bizarre headline, “James Comey Role Recalls Hoover’s FBI, Fairly or Not” practically admits up front that it’s spouting nonsense. The Boston Globe has published a column calling for Comey’s resignation. Not to be outdone, Time has an editorial claiming that the scandal is really an attack on all women. \n",
            "James Carville appeared on MSNBC to remind everyone that he was still alive and insane. He accused Comey of coordinating with House Republicans and the KGB. And you thought the “vast right wing conspiracy” was a stretch. \n",
            "Countless media stories charge Comey with violating procedure. Do you know what’s a procedural violation? Emailing classified information stored on your bathroom server. \n",
            "Senator Harry Reid has sent Comey a letter accusing him of violating the Hatch Act. The Hatch Act is a nice idea that has as much relevance in the age of Obama as the Tenth Amendment. But the cable news spectrum quickly filled with media hacks glancing at the Wikipedia article on the Hatch Act under the table while accusing the FBI director of one of the most awkward conspiracies against Hillary ever. \n",
            "If James Comey is really out to hurt Hillary, he picked one hell of a strange way to do it. \n",
            "Not too long ago Democrats were breathing a sigh of relief when he gave Hillary Clinton a pass in a prominent public statement. If he really were out to elect Trump by keeping the email scandal going, why did he trash the investigation? Was he on the payroll of House Republicans and the KGB back then and playing it coy or was it a sudden development where Vladimir Putin and Paul Ryan talked him into taking a look at Anthony Weiner’s computer? \n",
            "Either Comey is the most cunning FBI director that ever lived or he’s just awkwardly trying to navigate a political mess that has trapped him between a DOJ leadership whose political futures are tied to Hillary’s victory and his own bureau whose apolitical agents just want to be allowed to do their jobs. \n",
            "The only truly mysterious thing is why Hillary and her associates decided to go to war with a respected Federal agency. Most Americans like the FBI while Hillary Clinton enjoys a 60% unfavorable rating. \n",
            "And it’s an interesting question. \n",
            "Hillary’s old strategy was to lie and deny that the FBI even had a criminal investigation underway. Instead her associates insisted that it was a security review. The FBI corrected her and she shrugged it off. But the old breezy denial approach has given way to a savage assault on the FBI. \n",
            "Pretending that nothing was wrong was a bad strategy, but it was a better one that picking a fight with the FBI while lunatic Clinton associates try to claim that the FBI is really the KGB. \n",
            "There are two possible explanations. \n",
            "Hillary Clinton might be arrogant enough to lash out at the FBI now that she believes that victory is near. The same kind of hubris that led her to plan her victory fireworks display could lead her to declare a war on the FBI for irritating her during the final miles of her campaign. \n",
            "But the other explanation is that her people panicked. \n",
            "Going to war with the FBI is not the behavior of a smart and focused presidential campaign. It’s an act of desperation. When a presidential candidate decides that her only option is to try and destroy the credibility of the FBI, that’s not hubris, it’s fear of what the FBI might be about to reveal about her. \n",
            "During the original FBI investigation, Hillary Clinton was confident that she could ride it out. And she had good reason for believing that. But that Hillary Clinton is gone. In her place is a paranoid wreck. Within a short space of time the “positive” Clinton campaign promising to unite the country has been replaced by a desperate and flailing operation that has focused all its energy on fighting the FBI. \n",
            "There’s only one reason for such bizarre behavior. \n",
            "The Clinton campaign has decided that an FBI investigation of the latest batch of emails poses a threat to its survival. And so it’s gone all in on fighting the FBI. It’s an unprecedented step born of fear. It’s hard to know whether that fear is justified. But the existence of that fear already tells us a whole lot. \n",
            "Clinton loyalists rigged the old investigation. They knew the outcome ahead of time as well as they knew the debate questions. Now suddenly they are no longer in control. And they are afraid. \n",
            "You can smell the fear. \n",
            "The FBI has wiretaps from the investigation of the Clinton Foundation. It’s finding new emails all the time. And Clintonworld panicked. The spinmeisters of Clintonworld have claimed that the email scandal is just so much smoke without fire. All that’s here is the appearance of impropriety without any of the substance. But this isn’t how you react to smoke. It’s how you respond to a fire. \n",
            "The misguided assault on the FBI tells us that Hillary Clinton and her allies are afraid of a revelation bigger than the fundamental illegality of her email setup. The email setup was a preemptive cover up. The Clinton campaign has panicked badly out of the belief, right or wrong, that whatever crime the illegal setup was meant to cover up is at risk of being exposed. \n",
            "The Clintons have weathered countless scandals over the years. Whatever they are protecting this time around is bigger than the usual corruption, bribery, sexual assaults and abuses of power that have followed them around throughout the years. This is bigger and more damaging than any of the allegations that have already come out. And they don’t want FBI investigators anywhere near it. \n",
            "The campaign against Comey is pure intimidation. It’s also a warning. Any senior FBI people who value their careers are being warned to stay away. The Democrats are closing ranks around their nominee against the FBI. It’s an ugly and unprecedented scene. It may also be their last stand. \n",
            "Hillary Clinton has awkwardly wound her way through numerous scandals in just this election cycle. But she’s never shown fear or desperation before. Now that has changed. Whatever she is afraid of, it lies buried in her emails with Huma Abedin. And it can bring her down like nothing else has.  \n",
            "\n",
            "Summary:\n",
            "In the final stretch of the election, Hillary Rodham Clinton has gone to war with the FBI. During the original FBI investigation, Hillary Clinton was confident that she could ride it out.\n"
          ]
        }
      ]
    },
    {
      "cell_type": "code",
      "source": [],
      "metadata": {
        "id": "owo_qEqh7irJ"
      },
      "execution_count": null,
      "outputs": []
    }
  ]
}